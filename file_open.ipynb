{
 "cells": [
  {
   "cell_type": "code",
   "execution_count": 2,
   "metadata": {},
   "outputs": [],
   "source": [
    "import pandas as pd\n",
    "import matplotlib.pyplot as plt\n",
    "import plotly.express as px"
   ]
  },
  {
   "cell_type": "code",
   "execution_count": 13,
   "metadata": {},
   "outputs": [
    {
     "data": {
      "text/html": [
       "<div>\n",
       "<style scoped>\n",
       "    .dataframe tbody tr th:only-of-type {\n",
       "        vertical-align: middle;\n",
       "    }\n",
       "\n",
       "    .dataframe tbody tr th {\n",
       "        vertical-align: top;\n",
       "    }\n",
       "\n",
       "    .dataframe thead th {\n",
       "        text-align: right;\n",
       "    }\n",
       "</style>\n",
       "<table border=\"1\" class=\"dataframe\">\n",
       "  <thead>\n",
       "    <tr style=\"text-align: right;\">\n",
       "      <th></th>\n",
       "      <th>hotel_names</th>\n",
       "      <th>hotel_ratings</th>\n",
       "      <th>hotel_price</th>\n",
       "      <th>hotel_neighbourhoods</th>\n",
       "      <th>hotel_reviews</th>\n",
       "      <th>hotel_type</th>\n",
       "    </tr>\n",
       "  </thead>\n",
       "  <tbody>\n",
       "    <tr>\n",
       "      <th>0</th>\n",
       "      <td>The Hoxton - Shoreditch</td>\n",
       "      <td>4.5</td>\n",
       "      <td>££</td>\n",
       "      <td>Liverpool Street / Broadgate</td>\n",
       "      <td>187.0</td>\n",
       "      <td>HotelsVenues &amp; Event Spaces</td>\n",
       "    </tr>\n",
       "    <tr>\n",
       "      <th>1</th>\n",
       "      <td>London Marriott Hotel Park Lane</td>\n",
       "      <td>4.5</td>\n",
       "      <td>£££</td>\n",
       "      <td>Mayfair</td>\n",
       "      <td>45.0</td>\n",
       "      <td>HotelsVenues &amp; Event Spaces</td>\n",
       "    </tr>\n",
       "    <tr>\n",
       "      <th>2</th>\n",
       "      <td>DoubleTree by Hilton Hotel London - Hyde Park</td>\n",
       "      <td>4.0</td>\n",
       "      <td>££</td>\n",
       "      <td>Notting Hill</td>\n",
       "      <td>35.0</td>\n",
       "      <td>Hotels</td>\n",
       "    </tr>\n",
       "    <tr>\n",
       "      <th>3</th>\n",
       "      <td>Savoy Hotel</td>\n",
       "      <td>4.5</td>\n",
       "      <td>££££</td>\n",
       "      <td>Strand</td>\n",
       "      <td>96.0</td>\n",
       "      <td>Hotels</td>\n",
       "    </tr>\n",
       "    <tr>\n",
       "      <th>4</th>\n",
       "      <td>The Z Hotel Piccadilly</td>\n",
       "      <td>4.5</td>\n",
       "      <td>££</td>\n",
       "      <td>Trafalgar Square</td>\n",
       "      <td>11.0</td>\n",
       "      <td>Hotels</td>\n",
       "    </tr>\n",
       "    <tr>\n",
       "      <th>...</th>\n",
       "      <td>...</td>\n",
       "      <td>...</td>\n",
       "      <td>...</td>\n",
       "      <td>...</td>\n",
       "      <td>...</td>\n",
       "      <td>...</td>\n",
       "    </tr>\n",
       "    <tr>\n",
       "      <th>235</th>\n",
       "      <td>Miller’s Hotel</td>\n",
       "      <td>5.0</td>\n",
       "      <td>£££</td>\n",
       "      <td>Bayswater</td>\n",
       "      <td>4.0</td>\n",
       "      <td>Hotels</td>\n",
       "    </tr>\n",
       "    <tr>\n",
       "      <th>236</th>\n",
       "      <td>Princess Hotel</td>\n",
       "      <td>5.0</td>\n",
       "      <td>££</td>\n",
       "      <td>Bloomsbury</td>\n",
       "      <td>3.0</td>\n",
       "      <td>HotelsBed &amp; Breakfast</td>\n",
       "    </tr>\n",
       "    <tr>\n",
       "      <th>237</th>\n",
       "      <td>Millennium Hotel London Knightsbridge</td>\n",
       "      <td>3.5</td>\n",
       "      <td>£££</td>\n",
       "      <td>Chelsea</td>\n",
       "      <td>7.0</td>\n",
       "      <td>Hotels</td>\n",
       "    </tr>\n",
       "    <tr>\n",
       "      <th>238</th>\n",
       "      <td>Portobello Gold</td>\n",
       "      <td>3.5</td>\n",
       "      <td>££</td>\n",
       "      <td>Notting Hill</td>\n",
       "      <td>34.0</td>\n",
       "      <td>PubsGuest HousesBritish</td>\n",
       "    </tr>\n",
       "    <tr>\n",
       "      <th>239</th>\n",
       "      <td>Middle Eight</td>\n",
       "      <td>NaN</td>\n",
       "      <td>NaN</td>\n",
       "      <td>Covent Garden</td>\n",
       "      <td>NaN</td>\n",
       "      <td>HotelsItalianBarsCovent Garden</td>\n",
       "    </tr>\n",
       "  </tbody>\n",
       "</table>\n",
       "<p>240 rows × 6 columns</p>\n",
       "</div>"
      ],
      "text/plain": [
       "                                       hotel_names  hotel_ratings hotel_price  \\\n",
       "0                          The Hoxton - Shoreditch            4.5          ££   \n",
       "1                  London Marriott Hotel Park Lane            4.5         £££   \n",
       "2    DoubleTree by Hilton Hotel London - Hyde Park            4.0          ££   \n",
       "3                                      Savoy Hotel            4.5        ££££   \n",
       "4                           The Z Hotel Piccadilly            4.5          ££   \n",
       "..                                             ...            ...         ...   \n",
       "235                                 Miller’s Hotel            5.0         £££   \n",
       "236                                 Princess Hotel            5.0          ££   \n",
       "237          Millennium Hotel London Knightsbridge            3.5         £££   \n",
       "238                                Portobello Gold            3.5          ££   \n",
       "239                                   Middle Eight            NaN         NaN   \n",
       "\n",
       "             hotel_neighbourhoods  hotel_reviews  \\\n",
       "0    Liverpool Street / Broadgate          187.0   \n",
       "1                         Mayfair           45.0   \n",
       "2                    Notting Hill           35.0   \n",
       "3                          Strand           96.0   \n",
       "4                Trafalgar Square           11.0   \n",
       "..                            ...            ...   \n",
       "235                     Bayswater            4.0   \n",
       "236                    Bloomsbury            3.0   \n",
       "237                       Chelsea            7.0   \n",
       "238                  Notting Hill           34.0   \n",
       "239                 Covent Garden            NaN   \n",
       "\n",
       "                         hotel_type  \n",
       "0       HotelsVenues & Event Spaces  \n",
       "1       HotelsVenues & Event Spaces  \n",
       "2                            Hotels  \n",
       "3                            Hotels  \n",
       "4                            Hotels  \n",
       "..                              ...  \n",
       "235                          Hotels  \n",
       "236           HotelsBed & Breakfast  \n",
       "237                          Hotels  \n",
       "238         PubsGuest HousesBritish  \n",
       "239  HotelsItalianBarsCovent Garden  \n",
       "\n",
       "[240 rows x 6 columns]"
      ]
     },
     "execution_count": 13,
     "metadata": {},
     "output_type": "execute_result"
    }
   ],
   "source": [
    "data2 = pd.read_csv('C:\\\\Users\\\\ritth\\\\code\\\\Strive\\\\King_Ritthuja\\\\hotels_data.csv')\n",
    "data2"
   ]
  },
  {
   "cell_type": "code",
   "execution_count": 4,
   "metadata": {},
   "outputs": [
    {
     "data": {
      "text/html": [
       "<div>\n",
       "<style scoped>\n",
       "    .dataframe tbody tr th:only-of-type {\n",
       "        vertical-align: middle;\n",
       "    }\n",
       "\n",
       "    .dataframe tbody tr th {\n",
       "        vertical-align: top;\n",
       "    }\n",
       "\n",
       "    .dataframe thead th {\n",
       "        text-align: right;\n",
       "    }\n",
       "</style>\n",
       "<table border=\"1\" class=\"dataframe\">\n",
       "  <thead>\n",
       "    <tr style=\"text-align: right;\">\n",
       "      <th></th>\n",
       "      <th>Name</th>\n",
       "      <th>Rating</th>\n",
       "      <th>Reviews</th>\n",
       "      <th>Price Range</th>\n",
       "    </tr>\n",
       "  </thead>\n",
       "  <tbody>\n",
       "    <tr>\n",
       "      <th>0</th>\n",
       "      <td>The Harp</td>\n",
       "      <td>4.5</td>\n",
       "      <td>138</td>\n",
       "      <td>£</td>\n",
       "    </tr>\n",
       "    <tr>\n",
       "      <th>1</th>\n",
       "      <td>The Kings Head</td>\n",
       "      <td>5.0</td>\n",
       "      <td>5</td>\n",
       "      <td>NaN</td>\n",
       "    </tr>\n",
       "    <tr>\n",
       "      <th>2</th>\n",
       "      <td>The Shaftesbury</td>\n",
       "      <td>4.0</td>\n",
       "      <td>1</td>\n",
       "      <td>NaN</td>\n",
       "    </tr>\n",
       "    <tr>\n",
       "      <th>3</th>\n",
       "      <td>The Queen’s Head</td>\n",
       "      <td>4.5</td>\n",
       "      <td>48</td>\n",
       "      <td>££</td>\n",
       "    </tr>\n",
       "    <tr>\n",
       "      <th>4</th>\n",
       "      <td>The Queens Arms</td>\n",
       "      <td>4.5</td>\n",
       "      <td>123</td>\n",
       "      <td>££</td>\n",
       "    </tr>\n",
       "    <tr>\n",
       "      <th>...</th>\n",
       "      <td>...</td>\n",
       "      <td>...</td>\n",
       "      <td>...</td>\n",
       "      <td>...</td>\n",
       "    </tr>\n",
       "    <tr>\n",
       "      <th>235</th>\n",
       "      <td>Rileys Sports Bar</td>\n",
       "      <td>2.5</td>\n",
       "      <td>20</td>\n",
       "      <td>££</td>\n",
       "    </tr>\n",
       "    <tr>\n",
       "      <th>236</th>\n",
       "      <td>The Blue Posts</td>\n",
       "      <td>3.0</td>\n",
       "      <td>17</td>\n",
       "      <td>££</td>\n",
       "    </tr>\n",
       "    <tr>\n",
       "      <th>237</th>\n",
       "      <td>Ain’t Nothin’ But...</td>\n",
       "      <td>4.0</td>\n",
       "      <td>94</td>\n",
       "      <td>££</td>\n",
       "    </tr>\n",
       "    <tr>\n",
       "      <th>238</th>\n",
       "      <td>The Porter House</td>\n",
       "      <td>4.0</td>\n",
       "      <td>155</td>\n",
       "      <td>££</td>\n",
       "    </tr>\n",
       "    <tr>\n",
       "      <th>239</th>\n",
       "      <td>Skinners Arms</td>\n",
       "      <td>4.5</td>\n",
       "      <td>32</td>\n",
       "      <td>££</td>\n",
       "    </tr>\n",
       "  </tbody>\n",
       "</table>\n",
       "<p>240 rows × 4 columns</p>\n",
       "</div>"
      ],
      "text/plain": [
       "                     Name  Rating  Reviews Price Range\n",
       "0                The Harp     4.5      138           £\n",
       "1          The Kings Head     5.0        5         NaN\n",
       "2         The Shaftesbury     4.0        1         NaN\n",
       "3        The Queen’s Head     4.5       48          ££\n",
       "4         The Queens Arms     4.5      123          ££\n",
       "..                    ...     ...      ...         ...\n",
       "235     Rileys Sports Bar     2.5       20          ££\n",
       "236        The Blue Posts     3.0       17          ££\n",
       "237  Ain’t Nothin’ But...     4.0       94          ££\n",
       "238      The Porter House     4.0      155          ££\n",
       "239         Skinners Arms     4.5       32          ££\n",
       "\n",
       "[240 rows x 4 columns]"
      ]
     },
     "execution_count": 4,
     "metadata": {},
     "output_type": "execute_result"
    }
   ],
   "source": [
    "data3 = pd.read_csv('C:\\\\Users\\\\ritth\\\\code\\\\Strive\\\\King_Ritthuja\\\\pubs_data.csv')\n",
    "data3"
   ]
  },
  {
   "cell_type": "code",
   "execution_count": 14,
   "metadata": {},
   "outputs": [
    {
     "data": {
      "text/html": [
       "<div>\n",
       "<style scoped>\n",
       "    .dataframe tbody tr th:only-of-type {\n",
       "        vertical-align: middle;\n",
       "    }\n",
       "\n",
       "    .dataframe tbody tr th {\n",
       "        vertical-align: top;\n",
       "    }\n",
       "\n",
       "    .dataframe thead th {\n",
       "        text-align: right;\n",
       "    }\n",
       "</style>\n",
       "<table border=\"1\" class=\"dataframe\">\n",
       "  <thead>\n",
       "    <tr style=\"text-align: right;\">\n",
       "      <th></th>\n",
       "      <th>restaurant_names</th>\n",
       "      <th>restaurant_ratings</th>\n",
       "      <th>restaurant_price</th>\n",
       "      <th>restaurant_neighbourhoods</th>\n",
       "      <th>restaurant_reviews</th>\n",
       "      <th>restaurant_type</th>\n",
       "    </tr>\n",
       "  </thead>\n",
       "  <tbody>\n",
       "    <tr>\n",
       "      <th>0</th>\n",
       "      <td>The Hoxton - Shoreditch</td>\n",
       "      <td>4.5</td>\n",
       "      <td>££££</td>\n",
       "      <td>Chelsea</td>\n",
       "      <td>215</td>\n",
       "      <td>FrenchBritish</td>\n",
       "    </tr>\n",
       "    <tr>\n",
       "      <th>1</th>\n",
       "      <td>London Marriott Hotel Park Lane</td>\n",
       "      <td>4.5</td>\n",
       "      <td>££</td>\n",
       "      <td>Mayfair</td>\n",
       "      <td>296</td>\n",
       "      <td>Fish &amp; Chips</td>\n",
       "    </tr>\n",
       "    <tr>\n",
       "      <th>2</th>\n",
       "      <td>DoubleTree by Hilton Hotel London - Hyde Park</td>\n",
       "      <td>4.5</td>\n",
       "      <td>££</td>\n",
       "      <td>Covent Garden</td>\n",
       "      <td>1894</td>\n",
       "      <td>Indian</td>\n",
       "    </tr>\n",
       "    <tr>\n",
       "      <th>3</th>\n",
       "      <td>Savoy Hotel</td>\n",
       "      <td>4.5</td>\n",
       "      <td>££</td>\n",
       "      <td>Blackfriars</td>\n",
       "      <td>124</td>\n",
       "      <td>American (Traditional)Soul FoodCajun/Creole</td>\n",
       "    </tr>\n",
       "    <tr>\n",
       "      <th>4</th>\n",
       "      <td>The Z Hotel Piccadilly</td>\n",
       "      <td>4.5</td>\n",
       "      <td>££</td>\n",
       "      <td>Leicester Square</td>\n",
       "      <td>143</td>\n",
       "      <td>BarsWaffles</td>\n",
       "    </tr>\n",
       "    <tr>\n",
       "      <th>...</th>\n",
       "      <td>...</td>\n",
       "      <td>...</td>\n",
       "      <td>...</td>\n",
       "      <td>...</td>\n",
       "      <td>...</td>\n",
       "      <td>...</td>\n",
       "    </tr>\n",
       "    <tr>\n",
       "      <th>235</th>\n",
       "      <td>Miller’s Hotel</td>\n",
       "      <td>4.5</td>\n",
       "      <td>££</td>\n",
       "      <td>Soho</td>\n",
       "      <td>34</td>\n",
       "      <td>Peruvian</td>\n",
       "    </tr>\n",
       "    <tr>\n",
       "      <th>236</th>\n",
       "      <td>Princess Hotel</td>\n",
       "      <td>4.5</td>\n",
       "      <td>££</td>\n",
       "      <td>West Kensington</td>\n",
       "      <td>91</td>\n",
       "      <td>Fish &amp; Chips</td>\n",
       "    </tr>\n",
       "    <tr>\n",
       "      <th>237</th>\n",
       "      <td>Millennium Hotel London Knightsbridge</td>\n",
       "      <td>4.5</td>\n",
       "      <td>NaN</td>\n",
       "      <td>Camden Town</td>\n",
       "      <td>5</td>\n",
       "      <td>MalaysianCamden Town</td>\n",
       "    </tr>\n",
       "    <tr>\n",
       "      <th>238</th>\n",
       "      <td>Portobello Gold</td>\n",
       "      <td>4.5</td>\n",
       "      <td>££££</td>\n",
       "      <td>Mayfair</td>\n",
       "      <td>11</td>\n",
       "      <td>BarsBritish</td>\n",
       "    </tr>\n",
       "    <tr>\n",
       "      <th>239</th>\n",
       "      <td>Middle Eight</td>\n",
       "      <td>4.5</td>\n",
       "      <td>££££</td>\n",
       "      <td>Soho</td>\n",
       "      <td>13</td>\n",
       "      <td>Cocktail BarsBritishJazz &amp; Blues</td>\n",
       "    </tr>\n",
       "  </tbody>\n",
       "</table>\n",
       "<p>240 rows × 6 columns</p>\n",
       "</div>"
      ],
      "text/plain": [
       "                                  restaurant_names  restaurant_ratings  \\\n",
       "0                          The Hoxton - Shoreditch                 4.5   \n",
       "1                  London Marriott Hotel Park Lane                 4.5   \n",
       "2    DoubleTree by Hilton Hotel London - Hyde Park                 4.5   \n",
       "3                                      Savoy Hotel                 4.5   \n",
       "4                           The Z Hotel Piccadilly                 4.5   \n",
       "..                                             ...                 ...   \n",
       "235                                 Miller’s Hotel                 4.5   \n",
       "236                                 Princess Hotel                 4.5   \n",
       "237          Millennium Hotel London Knightsbridge                 4.5   \n",
       "238                                Portobello Gold                 4.5   \n",
       "239                                   Middle Eight                 4.5   \n",
       "\n",
       "    restaurant_price restaurant_neighbourhoods  restaurant_reviews  \\\n",
       "0               ££££                   Chelsea                 215   \n",
       "1                 ££                   Mayfair                 296   \n",
       "2                 ££             Covent Garden                1894   \n",
       "3                 ££               Blackfriars                 124   \n",
       "4                 ££          Leicester Square                 143   \n",
       "..               ...                       ...                 ...   \n",
       "235               ££                      Soho                  34   \n",
       "236               ££           West Kensington                  91   \n",
       "237              NaN               Camden Town                   5   \n",
       "238             ££££                   Mayfair                  11   \n",
       "239             ££££                      Soho                  13   \n",
       "\n",
       "                                 restaurant_type  \n",
       "0                                  FrenchBritish  \n",
       "1                                   Fish & Chips  \n",
       "2                                         Indian  \n",
       "3    American (Traditional)Soul FoodCajun/Creole  \n",
       "4                                    BarsWaffles  \n",
       "..                                           ...  \n",
       "235                                     Peruvian  \n",
       "236                                 Fish & Chips  \n",
       "237                         MalaysianCamden Town  \n",
       "238                                  BarsBritish  \n",
       "239             Cocktail BarsBritishJazz & Blues  \n",
       "\n",
       "[240 rows x 6 columns]"
      ]
     },
     "execution_count": 14,
     "metadata": {},
     "output_type": "execute_result"
    }
   ],
   "source": [
    "data1 = pd.read_csv('C:\\\\Users\\\\ritth\\\\code\\\\Strive\\\\King_Ritthuja\\\\restaurant_data.csv')\n",
    "data1"
   ]
  },
  {
   "cell_type": "markdown",
   "metadata": {},
   "source": [
    "# Restaurant Distribution"
   ]
  },
  {
   "cell_type": "code",
   "execution_count": 8,
   "metadata": {},
   "outputs": [
    {
     "data": {
      "application/vnd.plotly.v1+json": {
       "config": {
        "plotlyServerURL": "https://plot.ly"
       },
       "data": [
        {
         "alignmentgroup": "True",
         "bingroup": "x",
         "hovertemplate": "Rating=%{x}<br>count=%{y}<extra></extra>",
         "legendgroup": "",
         "marker": {
          "color": "#636efa",
          "pattern": {
           "shape": ""
          }
         },
         "name": "",
         "offsetgroup": "",
         "orientation": "v",
         "showlegend": false,
         "type": "histogram",
         "x": [
          4.5,
          4.5,
          4.5,
          4.5,
          4.5,
          4,
          4.5,
          4.5,
          4,
          4,
          4.5,
          4.5,
          4.5,
          4.5,
          4.5,
          4,
          4,
          4,
          4.5,
          4.5,
          4,
          4.5,
          4,
          4.5,
          4,
          4.5,
          4,
          4,
          4.5,
          4,
          4.5,
          4,
          4,
          4.5,
          4.5,
          4,
          4.5,
          4.5,
          4,
          4,
          4.5,
          4,
          4,
          5,
          4.5,
          4.5,
          4,
          4.5,
          4,
          4.5,
          4.5,
          4,
          4.5,
          4,
          4,
          4,
          4,
          5,
          4,
          4,
          4.5,
          4,
          4,
          4,
          4.5,
          4,
          4.5,
          4,
          4.5,
          4.5,
          4.5,
          5,
          4.5,
          4.5,
          4,
          4.5,
          4,
          4,
          4.5,
          4,
          4.5,
          4,
          4.5,
          4.5,
          4.5,
          4.5,
          4.5,
          4.5,
          4.5,
          4,
          5,
          4,
          4.5,
          4,
          4.5,
          4,
          4.5,
          4.5,
          4,
          4.5,
          4.5,
          4,
          5,
          4,
          4,
          4.5,
          4,
          4.5,
          4.5,
          4.5,
          4.5,
          4.5,
          4.5,
          4,
          4.5,
          4.5,
          5,
          4,
          4.5,
          5,
          4.5,
          4,
          4.5,
          5,
          4.5,
          4.5,
          4,
          3.5,
          5,
          4.5,
          4,
          5,
          4,
          4.5,
          4.5,
          4.5,
          4.5,
          4,
          4.5,
          4,
          4.5,
          4.5,
          4.5,
          4.5,
          4,
          4.5,
          4,
          4,
          4,
          4.5,
          4,
          4,
          4,
          4.5,
          4.5,
          4,
          4.5,
          4,
          5,
          4.5,
          4.5,
          4,
          4,
          5,
          4,
          4.5,
          5,
          4.5,
          5,
          4,
          4.5,
          4,
          4.5,
          4.5,
          4.5,
          4,
          4,
          4,
          5,
          4.5,
          4.5,
          4,
          4.5,
          5,
          4.5,
          4,
          4.5,
          4,
          4,
          4,
          4,
          4,
          4.5,
          4,
          4.5,
          4,
          4,
          4.5,
          4,
          4.5,
          4.5,
          4,
          4.5,
          4,
          4,
          4.5,
          4.5,
          4.5,
          4,
          4,
          4.5,
          4.5,
          4,
          4.5,
          5,
          4.5,
          5,
          4.5,
          4,
          4.5,
          4,
          4.5,
          4,
          4.5,
          4,
          4.5,
          4,
          4,
          4,
          4.5,
          4,
          4.5,
          4.5,
          4,
          4,
          4.5,
          4.5,
          5,
          4.5,
          4
         ],
         "xaxis": "x",
         "yaxis": "y"
        }
       ],
       "layout": {
        "barmode": "relative",
        "legend": {
         "tracegroupgap": 0
        },
        "margin": {
         "t": 60
        },
        "template": {
         "data": {
          "bar": [
           {
            "error_x": {
             "color": "#2a3f5f"
            },
            "error_y": {
             "color": "#2a3f5f"
            },
            "marker": {
             "line": {
              "color": "#E5ECF6",
              "width": 0.5
             },
             "pattern": {
              "fillmode": "overlay",
              "size": 10,
              "solidity": 0.2
             }
            },
            "type": "bar"
           }
          ],
          "barpolar": [
           {
            "marker": {
             "line": {
              "color": "#E5ECF6",
              "width": 0.5
             },
             "pattern": {
              "fillmode": "overlay",
              "size": 10,
              "solidity": 0.2
             }
            },
            "type": "barpolar"
           }
          ],
          "carpet": [
           {
            "aaxis": {
             "endlinecolor": "#2a3f5f",
             "gridcolor": "white",
             "linecolor": "white",
             "minorgridcolor": "white",
             "startlinecolor": "#2a3f5f"
            },
            "baxis": {
             "endlinecolor": "#2a3f5f",
             "gridcolor": "white",
             "linecolor": "white",
             "minorgridcolor": "white",
             "startlinecolor": "#2a3f5f"
            },
            "type": "carpet"
           }
          ],
          "choropleth": [
           {
            "colorbar": {
             "outlinewidth": 0,
             "ticks": ""
            },
            "type": "choropleth"
           }
          ],
          "contour": [
           {
            "colorbar": {
             "outlinewidth": 0,
             "ticks": ""
            },
            "colorscale": [
             [
              0,
              "#0d0887"
             ],
             [
              0.1111111111111111,
              "#46039f"
             ],
             [
              0.2222222222222222,
              "#7201a8"
             ],
             [
              0.3333333333333333,
              "#9c179e"
             ],
             [
              0.4444444444444444,
              "#bd3786"
             ],
             [
              0.5555555555555556,
              "#d8576b"
             ],
             [
              0.6666666666666666,
              "#ed7953"
             ],
             [
              0.7777777777777778,
              "#fb9f3a"
             ],
             [
              0.8888888888888888,
              "#fdca26"
             ],
             [
              1,
              "#f0f921"
             ]
            ],
            "type": "contour"
           }
          ],
          "contourcarpet": [
           {
            "colorbar": {
             "outlinewidth": 0,
             "ticks": ""
            },
            "type": "contourcarpet"
           }
          ],
          "heatmap": [
           {
            "colorbar": {
             "outlinewidth": 0,
             "ticks": ""
            },
            "colorscale": [
             [
              0,
              "#0d0887"
             ],
             [
              0.1111111111111111,
              "#46039f"
             ],
             [
              0.2222222222222222,
              "#7201a8"
             ],
             [
              0.3333333333333333,
              "#9c179e"
             ],
             [
              0.4444444444444444,
              "#bd3786"
             ],
             [
              0.5555555555555556,
              "#d8576b"
             ],
             [
              0.6666666666666666,
              "#ed7953"
             ],
             [
              0.7777777777777778,
              "#fb9f3a"
             ],
             [
              0.8888888888888888,
              "#fdca26"
             ],
             [
              1,
              "#f0f921"
             ]
            ],
            "type": "heatmap"
           }
          ],
          "heatmapgl": [
           {
            "colorbar": {
             "outlinewidth": 0,
             "ticks": ""
            },
            "colorscale": [
             [
              0,
              "#0d0887"
             ],
             [
              0.1111111111111111,
              "#46039f"
             ],
             [
              0.2222222222222222,
              "#7201a8"
             ],
             [
              0.3333333333333333,
              "#9c179e"
             ],
             [
              0.4444444444444444,
              "#bd3786"
             ],
             [
              0.5555555555555556,
              "#d8576b"
             ],
             [
              0.6666666666666666,
              "#ed7953"
             ],
             [
              0.7777777777777778,
              "#fb9f3a"
             ],
             [
              0.8888888888888888,
              "#fdca26"
             ],
             [
              1,
              "#f0f921"
             ]
            ],
            "type": "heatmapgl"
           }
          ],
          "histogram": [
           {
            "marker": {
             "pattern": {
              "fillmode": "overlay",
              "size": 10,
              "solidity": 0.2
             }
            },
            "type": "histogram"
           }
          ],
          "histogram2d": [
           {
            "colorbar": {
             "outlinewidth": 0,
             "ticks": ""
            },
            "colorscale": [
             [
              0,
              "#0d0887"
             ],
             [
              0.1111111111111111,
              "#46039f"
             ],
             [
              0.2222222222222222,
              "#7201a8"
             ],
             [
              0.3333333333333333,
              "#9c179e"
             ],
             [
              0.4444444444444444,
              "#bd3786"
             ],
             [
              0.5555555555555556,
              "#d8576b"
             ],
             [
              0.6666666666666666,
              "#ed7953"
             ],
             [
              0.7777777777777778,
              "#fb9f3a"
             ],
             [
              0.8888888888888888,
              "#fdca26"
             ],
             [
              1,
              "#f0f921"
             ]
            ],
            "type": "histogram2d"
           }
          ],
          "histogram2dcontour": [
           {
            "colorbar": {
             "outlinewidth": 0,
             "ticks": ""
            },
            "colorscale": [
             [
              0,
              "#0d0887"
             ],
             [
              0.1111111111111111,
              "#46039f"
             ],
             [
              0.2222222222222222,
              "#7201a8"
             ],
             [
              0.3333333333333333,
              "#9c179e"
             ],
             [
              0.4444444444444444,
              "#bd3786"
             ],
             [
              0.5555555555555556,
              "#d8576b"
             ],
             [
              0.6666666666666666,
              "#ed7953"
             ],
             [
              0.7777777777777778,
              "#fb9f3a"
             ],
             [
              0.8888888888888888,
              "#fdca26"
             ],
             [
              1,
              "#f0f921"
             ]
            ],
            "type": "histogram2dcontour"
           }
          ],
          "mesh3d": [
           {
            "colorbar": {
             "outlinewidth": 0,
             "ticks": ""
            },
            "type": "mesh3d"
           }
          ],
          "parcoords": [
           {
            "line": {
             "colorbar": {
              "outlinewidth": 0,
              "ticks": ""
             }
            },
            "type": "parcoords"
           }
          ],
          "pie": [
           {
            "automargin": true,
            "type": "pie"
           }
          ],
          "scatter": [
           {
            "marker": {
             "colorbar": {
              "outlinewidth": 0,
              "ticks": ""
             }
            },
            "type": "scatter"
           }
          ],
          "scatter3d": [
           {
            "line": {
             "colorbar": {
              "outlinewidth": 0,
              "ticks": ""
             }
            },
            "marker": {
             "colorbar": {
              "outlinewidth": 0,
              "ticks": ""
             }
            },
            "type": "scatter3d"
           }
          ],
          "scattercarpet": [
           {
            "marker": {
             "colorbar": {
              "outlinewidth": 0,
              "ticks": ""
             }
            },
            "type": "scattercarpet"
           }
          ],
          "scattergeo": [
           {
            "marker": {
             "colorbar": {
              "outlinewidth": 0,
              "ticks": ""
             }
            },
            "type": "scattergeo"
           }
          ],
          "scattergl": [
           {
            "marker": {
             "colorbar": {
              "outlinewidth": 0,
              "ticks": ""
             }
            },
            "type": "scattergl"
           }
          ],
          "scattermapbox": [
           {
            "marker": {
             "colorbar": {
              "outlinewidth": 0,
              "ticks": ""
             }
            },
            "type": "scattermapbox"
           }
          ],
          "scatterpolar": [
           {
            "marker": {
             "colorbar": {
              "outlinewidth": 0,
              "ticks": ""
             }
            },
            "type": "scatterpolar"
           }
          ],
          "scatterpolargl": [
           {
            "marker": {
             "colorbar": {
              "outlinewidth": 0,
              "ticks": ""
             }
            },
            "type": "scatterpolargl"
           }
          ],
          "scatterternary": [
           {
            "marker": {
             "colorbar": {
              "outlinewidth": 0,
              "ticks": ""
             }
            },
            "type": "scatterternary"
           }
          ],
          "surface": [
           {
            "colorbar": {
             "outlinewidth": 0,
             "ticks": ""
            },
            "colorscale": [
             [
              0,
              "#0d0887"
             ],
             [
              0.1111111111111111,
              "#46039f"
             ],
             [
              0.2222222222222222,
              "#7201a8"
             ],
             [
              0.3333333333333333,
              "#9c179e"
             ],
             [
              0.4444444444444444,
              "#bd3786"
             ],
             [
              0.5555555555555556,
              "#d8576b"
             ],
             [
              0.6666666666666666,
              "#ed7953"
             ],
             [
              0.7777777777777778,
              "#fb9f3a"
             ],
             [
              0.8888888888888888,
              "#fdca26"
             ],
             [
              1,
              "#f0f921"
             ]
            ],
            "type": "surface"
           }
          ],
          "table": [
           {
            "cells": {
             "fill": {
              "color": "#EBF0F8"
             },
             "line": {
              "color": "white"
             }
            },
            "header": {
             "fill": {
              "color": "#C8D4E3"
             },
             "line": {
              "color": "white"
             }
            },
            "type": "table"
           }
          ]
         },
         "layout": {
          "annotationdefaults": {
           "arrowcolor": "#2a3f5f",
           "arrowhead": 0,
           "arrowwidth": 1
          },
          "autotypenumbers": "strict",
          "coloraxis": {
           "colorbar": {
            "outlinewidth": 0,
            "ticks": ""
           }
          },
          "colorscale": {
           "diverging": [
            [
             0,
             "#8e0152"
            ],
            [
             0.1,
             "#c51b7d"
            ],
            [
             0.2,
             "#de77ae"
            ],
            [
             0.3,
             "#f1b6da"
            ],
            [
             0.4,
             "#fde0ef"
            ],
            [
             0.5,
             "#f7f7f7"
            ],
            [
             0.6,
             "#e6f5d0"
            ],
            [
             0.7,
             "#b8e186"
            ],
            [
             0.8,
             "#7fbc41"
            ],
            [
             0.9,
             "#4d9221"
            ],
            [
             1,
             "#276419"
            ]
           ],
           "sequential": [
            [
             0,
             "#0d0887"
            ],
            [
             0.1111111111111111,
             "#46039f"
            ],
            [
             0.2222222222222222,
             "#7201a8"
            ],
            [
             0.3333333333333333,
             "#9c179e"
            ],
            [
             0.4444444444444444,
             "#bd3786"
            ],
            [
             0.5555555555555556,
             "#d8576b"
            ],
            [
             0.6666666666666666,
             "#ed7953"
            ],
            [
             0.7777777777777778,
             "#fb9f3a"
            ],
            [
             0.8888888888888888,
             "#fdca26"
            ],
            [
             1,
             "#f0f921"
            ]
           ],
           "sequentialminus": [
            [
             0,
             "#0d0887"
            ],
            [
             0.1111111111111111,
             "#46039f"
            ],
            [
             0.2222222222222222,
             "#7201a8"
            ],
            [
             0.3333333333333333,
             "#9c179e"
            ],
            [
             0.4444444444444444,
             "#bd3786"
            ],
            [
             0.5555555555555556,
             "#d8576b"
            ],
            [
             0.6666666666666666,
             "#ed7953"
            ],
            [
             0.7777777777777778,
             "#fb9f3a"
            ],
            [
             0.8888888888888888,
             "#fdca26"
            ],
            [
             1,
             "#f0f921"
            ]
           ]
          },
          "colorway": [
           "#636efa",
           "#EF553B",
           "#00cc96",
           "#ab63fa",
           "#FFA15A",
           "#19d3f3",
           "#FF6692",
           "#B6E880",
           "#FF97FF",
           "#FECB52"
          ],
          "font": {
           "color": "#2a3f5f"
          },
          "geo": {
           "bgcolor": "white",
           "lakecolor": "white",
           "landcolor": "#E5ECF6",
           "showlakes": true,
           "showland": true,
           "subunitcolor": "white"
          },
          "hoverlabel": {
           "align": "left"
          },
          "hovermode": "closest",
          "mapbox": {
           "style": "light"
          },
          "paper_bgcolor": "white",
          "plot_bgcolor": "#E5ECF6",
          "polar": {
           "angularaxis": {
            "gridcolor": "white",
            "linecolor": "white",
            "ticks": ""
           },
           "bgcolor": "#E5ECF6",
           "radialaxis": {
            "gridcolor": "white",
            "linecolor": "white",
            "ticks": ""
           }
          },
          "scene": {
           "xaxis": {
            "backgroundcolor": "#E5ECF6",
            "gridcolor": "white",
            "gridwidth": 2,
            "linecolor": "white",
            "showbackground": true,
            "ticks": "",
            "zerolinecolor": "white"
           },
           "yaxis": {
            "backgroundcolor": "#E5ECF6",
            "gridcolor": "white",
            "gridwidth": 2,
            "linecolor": "white",
            "showbackground": true,
            "ticks": "",
            "zerolinecolor": "white"
           },
           "zaxis": {
            "backgroundcolor": "#E5ECF6",
            "gridcolor": "white",
            "gridwidth": 2,
            "linecolor": "white",
            "showbackground": true,
            "ticks": "",
            "zerolinecolor": "white"
           }
          },
          "shapedefaults": {
           "line": {
            "color": "#2a3f5f"
           }
          },
          "ternary": {
           "aaxis": {
            "gridcolor": "white",
            "linecolor": "white",
            "ticks": ""
           },
           "baxis": {
            "gridcolor": "white",
            "linecolor": "white",
            "ticks": ""
           },
           "bgcolor": "#E5ECF6",
           "caxis": {
            "gridcolor": "white",
            "linecolor": "white",
            "ticks": ""
           }
          },
          "title": {
           "x": 0.05
          },
          "xaxis": {
           "automargin": true,
           "gridcolor": "white",
           "linecolor": "white",
           "ticks": "",
           "title": {
            "standoff": 15
           },
           "zerolinecolor": "white",
           "zerolinewidth": 2
          },
          "yaxis": {
           "automargin": true,
           "gridcolor": "white",
           "linecolor": "white",
           "ticks": "",
           "title": {
            "standoff": 15
           },
           "zerolinecolor": "white",
           "zerolinewidth": 2
          }
         }
        },
        "xaxis": {
         "anchor": "y",
         "domain": [
          0,
          1
         ],
         "title": {
          "text": "Rating"
         }
        },
        "yaxis": {
         "anchor": "x",
         "domain": [
          0,
          1
         ],
         "title": {
          "text": "count"
         }
        }
       }
      }
     },
     "metadata": {},
     "output_type": "display_data"
    }
   ],
   "source": [
    "# Distribution of rating\n",
    " \n",
    "px.histogram(data1, x ='Rating')"
   ]
  }
 ],
 "metadata": {
  "interpreter": {
   "hash": "73592dad14db8f3994cd458d5e0995dad9821ca28205c2106249abcaba41cb67"
  },
  "kernelspec": {
   "display_name": "Python 3.8.12 ('strive')",
   "language": "python",
   "name": "python3"
  },
  "language_info": {
   "codemirror_mode": {
    "name": "ipython",
    "version": 3
   },
   "file_extension": ".py",
   "mimetype": "text/x-python",
   "name": "python",
   "nbconvert_exporter": "python",
   "pygments_lexer": "ipython3",
   "version": "3.8.12"
  },
  "orig_nbformat": 4
 },
 "nbformat": 4,
 "nbformat_minor": 2
}
