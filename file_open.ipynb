{
 "cells": [
  {
   "cell_type": "code",
   "execution_count": 36,
   "metadata": {},
   "outputs": [],
   "source": [
    "import pandas as pd\n",
    "import matplotlib.pyplot as plt\n",
    "import plotly.express as px\n",
    "%matplotlib inline\n"
   ]
  },
  {
   "cell_type": "code",
   "execution_count": 74,
   "metadata": {},
   "outputs": [
    {
     "data": {
      "text/html": [
       "<div>\n",
       "<style scoped>\n",
       "    .dataframe tbody tr th:only-of-type {\n",
       "        vertical-align: middle;\n",
       "    }\n",
       "\n",
       "    .dataframe tbody tr th {\n",
       "        vertical-align: top;\n",
       "    }\n",
       "\n",
       "    .dataframe thead th {\n",
       "        text-align: right;\n",
       "    }\n",
       "</style>\n",
       "<table border=\"1\" class=\"dataframe\">\n",
       "  <thead>\n",
       "    <tr style=\"text-align: right;\">\n",
       "      <th></th>\n",
       "      <th>hotel_names</th>\n",
       "      <th>hotel_ratings</th>\n",
       "      <th>hotel_price</th>\n",
       "      <th>hotel_neighbourhoods</th>\n",
       "      <th>hotel_reviews</th>\n",
       "      <th>hotel_type</th>\n",
       "    </tr>\n",
       "  </thead>\n",
       "  <tbody>\n",
       "    <tr>\n",
       "      <th>0</th>\n",
       "      <td>The Hoxton - Shoreditch</td>\n",
       "      <td>4.5</td>\n",
       "      <td>££</td>\n",
       "      <td>Liverpool Street / Broadgate</td>\n",
       "      <td>187.0</td>\n",
       "      <td>HotelsVenues &amp; Event Spaces</td>\n",
       "    </tr>\n",
       "    <tr>\n",
       "      <th>1</th>\n",
       "      <td>London Marriott Hotel Park Lane</td>\n",
       "      <td>4.5</td>\n",
       "      <td>£££</td>\n",
       "      <td>Mayfair</td>\n",
       "      <td>45.0</td>\n",
       "      <td>HotelsVenues &amp; Event Spaces</td>\n",
       "    </tr>\n",
       "    <tr>\n",
       "      <th>2</th>\n",
       "      <td>DoubleTree by Hilton Hotel London - Hyde Park</td>\n",
       "      <td>4.0</td>\n",
       "      <td>££</td>\n",
       "      <td>Notting Hill</td>\n",
       "      <td>35.0</td>\n",
       "      <td>Hotels</td>\n",
       "    </tr>\n",
       "    <tr>\n",
       "      <th>3</th>\n",
       "      <td>Savoy Hotel</td>\n",
       "      <td>4.5</td>\n",
       "      <td>££££</td>\n",
       "      <td>Strand</td>\n",
       "      <td>96.0</td>\n",
       "      <td>Hotels</td>\n",
       "    </tr>\n",
       "    <tr>\n",
       "      <th>4</th>\n",
       "      <td>The Z Hotel Piccadilly</td>\n",
       "      <td>4.5</td>\n",
       "      <td>££</td>\n",
       "      <td>Trafalgar Square</td>\n",
       "      <td>11.0</td>\n",
       "      <td>Hotels</td>\n",
       "    </tr>\n",
       "    <tr>\n",
       "      <th>...</th>\n",
       "      <td>...</td>\n",
       "      <td>...</td>\n",
       "      <td>...</td>\n",
       "      <td>...</td>\n",
       "      <td>...</td>\n",
       "      <td>...</td>\n",
       "    </tr>\n",
       "    <tr>\n",
       "      <th>235</th>\n",
       "      <td>Miller’s Hotel</td>\n",
       "      <td>5.0</td>\n",
       "      <td>£££</td>\n",
       "      <td>Bayswater</td>\n",
       "      <td>4.0</td>\n",
       "      <td>Hotels</td>\n",
       "    </tr>\n",
       "    <tr>\n",
       "      <th>236</th>\n",
       "      <td>Princess Hotel</td>\n",
       "      <td>5.0</td>\n",
       "      <td>££</td>\n",
       "      <td>Bloomsbury</td>\n",
       "      <td>3.0</td>\n",
       "      <td>HotelsBed &amp; Breakfast</td>\n",
       "    </tr>\n",
       "    <tr>\n",
       "      <th>237</th>\n",
       "      <td>Millennium Hotel London Knightsbridge</td>\n",
       "      <td>3.5</td>\n",
       "      <td>£££</td>\n",
       "      <td>Chelsea</td>\n",
       "      <td>7.0</td>\n",
       "      <td>Hotels</td>\n",
       "    </tr>\n",
       "    <tr>\n",
       "      <th>238</th>\n",
       "      <td>Portobello Gold</td>\n",
       "      <td>3.5</td>\n",
       "      <td>££</td>\n",
       "      <td>Notting Hill</td>\n",
       "      <td>34.0</td>\n",
       "      <td>PubsGuest HousesBritish</td>\n",
       "    </tr>\n",
       "    <tr>\n",
       "      <th>239</th>\n",
       "      <td>Middle Eight</td>\n",
       "      <td>NaN</td>\n",
       "      <td>NaN</td>\n",
       "      <td>Covent Garden</td>\n",
       "      <td>NaN</td>\n",
       "      <td>HotelsItalianBarsCovent Garden</td>\n",
       "    </tr>\n",
       "  </tbody>\n",
       "</table>\n",
       "<p>240 rows × 6 columns</p>\n",
       "</div>"
      ],
      "text/plain": [
       "                                       hotel_names  hotel_ratings hotel_price  \\\n",
       "0                          The Hoxton - Shoreditch            4.5          ££   \n",
       "1                  London Marriott Hotel Park Lane            4.5         £££   \n",
       "2    DoubleTree by Hilton Hotel London - Hyde Park            4.0          ££   \n",
       "3                                      Savoy Hotel            4.5        ££££   \n",
       "4                           The Z Hotel Piccadilly            4.5          ££   \n",
       "..                                             ...            ...         ...   \n",
       "235                                 Miller’s Hotel            5.0         £££   \n",
       "236                                 Princess Hotel            5.0          ££   \n",
       "237          Millennium Hotel London Knightsbridge            3.5         £££   \n",
       "238                                Portobello Gold            3.5          ££   \n",
       "239                                   Middle Eight            NaN         NaN   \n",
       "\n",
       "             hotel_neighbourhoods  hotel_reviews  \\\n",
       "0    Liverpool Street / Broadgate          187.0   \n",
       "1                         Mayfair           45.0   \n",
       "2                    Notting Hill           35.0   \n",
       "3                          Strand           96.0   \n",
       "4                Trafalgar Square           11.0   \n",
       "..                            ...            ...   \n",
       "235                     Bayswater            4.0   \n",
       "236                    Bloomsbury            3.0   \n",
       "237                       Chelsea            7.0   \n",
       "238                  Notting Hill           34.0   \n",
       "239                 Covent Garden            NaN   \n",
       "\n",
       "                         hotel_type  \n",
       "0       HotelsVenues & Event Spaces  \n",
       "1       HotelsVenues & Event Spaces  \n",
       "2                            Hotels  \n",
       "3                            Hotels  \n",
       "4                            Hotels  \n",
       "..                              ...  \n",
       "235                          Hotels  \n",
       "236           HotelsBed & Breakfast  \n",
       "237                          Hotels  \n",
       "238         PubsGuest HousesBritish  \n",
       "239  HotelsItalianBarsCovent Garden  \n",
       "\n",
       "[240 rows x 6 columns]"
      ]
     },
     "execution_count": 74,
     "metadata": {},
     "output_type": "execute_result"
    }
   ],
   "source": [
    "data2 = pd.read_csv('C:\\\\Users\\\\ritth\\\\code\\\\Strive\\\\King_Ritthuja\\\\hotels_data.csv')\n",
    "data2"
   ]
  },
  {
   "cell_type": "code",
   "execution_count": 78,
   "metadata": {},
   "outputs": [
    {
     "data": {
      "text/html": [
       "<div>\n",
       "<style scoped>\n",
       "    .dataframe tbody tr th:only-of-type {\n",
       "        vertical-align: middle;\n",
       "    }\n",
       "\n",
       "    .dataframe tbody tr th {\n",
       "        vertical-align: top;\n",
       "    }\n",
       "\n",
       "    .dataframe thead th {\n",
       "        text-align: right;\n",
       "    }\n",
       "</style>\n",
       "<table border=\"1\" class=\"dataframe\">\n",
       "  <thead>\n",
       "    <tr style=\"text-align: right;\">\n",
       "      <th></th>\n",
       "      <th>pub_names</th>\n",
       "      <th>pub_ratings</th>\n",
       "      <th>pub_price</th>\n",
       "      <th>pub_neighbourhoods</th>\n",
       "      <th>pub_reviews</th>\n",
       "      <th>pub_type</th>\n",
       "    </tr>\n",
       "  </thead>\n",
       "  <tbody>\n",
       "    <tr>\n",
       "      <th>0</th>\n",
       "      <td>The Harp</td>\n",
       "      <td>4.5</td>\n",
       "      <td>£</td>\n",
       "      <td>Strand</td>\n",
       "      <td>138</td>\n",
       "      <td>Pubs</td>\n",
       "    </tr>\n",
       "    <tr>\n",
       "      <th>1</th>\n",
       "      <td>The Queen’s Head</td>\n",
       "      <td>4.5</td>\n",
       "      <td>££</td>\n",
       "      <td>Soho</td>\n",
       "      <td>48</td>\n",
       "      <td>Pubs</td>\n",
       "    </tr>\n",
       "    <tr>\n",
       "      <th>2</th>\n",
       "      <td>The Victoria</td>\n",
       "      <td>4.5</td>\n",
       "      <td>££</td>\n",
       "      <td>Paddington</td>\n",
       "      <td>226</td>\n",
       "      <td>PubsBritish</td>\n",
       "    </tr>\n",
       "    <tr>\n",
       "      <th>3</th>\n",
       "      <td>The Queens Arms</td>\n",
       "      <td>4.5</td>\n",
       "      <td>££</td>\n",
       "      <td>Victoria</td>\n",
       "      <td>123</td>\n",
       "      <td>BritishPubsGastropubs</td>\n",
       "    </tr>\n",
       "    <tr>\n",
       "      <th>4</th>\n",
       "      <td>Mother Mash</td>\n",
       "      <td>4.0</td>\n",
       "      <td>££</td>\n",
       "      <td>Soho</td>\n",
       "      <td>471</td>\n",
       "      <td>British</td>\n",
       "    </tr>\n",
       "    <tr>\n",
       "      <th>...</th>\n",
       "      <td>...</td>\n",
       "      <td>...</td>\n",
       "      <td>...</td>\n",
       "      <td>...</td>\n",
       "      <td>...</td>\n",
       "      <td>...</td>\n",
       "    </tr>\n",
       "    <tr>\n",
       "      <th>235</th>\n",
       "      <td>The Yard Bar</td>\n",
       "      <td>3.5</td>\n",
       "      <td>££</td>\n",
       "      <td>Soho</td>\n",
       "      <td>34</td>\n",
       "      <td>Gay Bars</td>\n",
       "    </tr>\n",
       "    <tr>\n",
       "      <th>236</th>\n",
       "      <td>Sawyers Arms</td>\n",
       "      <td>3.5</td>\n",
       "      <td>££</td>\n",
       "      <td>Paddington</td>\n",
       "      <td>27</td>\n",
       "      <td>Pubs</td>\n",
       "    </tr>\n",
       "    <tr>\n",
       "      <th>237</th>\n",
       "      <td>The Jugged Hare</td>\n",
       "      <td>4.0</td>\n",
       "      <td>££</td>\n",
       "      <td>Westminster</td>\n",
       "      <td>29</td>\n",
       "      <td>Pubs</td>\n",
       "    </tr>\n",
       "    <tr>\n",
       "      <th>238</th>\n",
       "      <td>The Old Kings Head</td>\n",
       "      <td>4.5</td>\n",
       "      <td>££</td>\n",
       "      <td>Liverpool Street / Broadgate</td>\n",
       "      <td>2</td>\n",
       "      <td>Pubs</td>\n",
       "    </tr>\n",
       "    <tr>\n",
       "      <th>239</th>\n",
       "      <td>The Sands End</td>\n",
       "      <td>4.0</td>\n",
       "      <td>££</td>\n",
       "      <td>Fulham</td>\n",
       "      <td>16</td>\n",
       "      <td>Pubs</td>\n",
       "    </tr>\n",
       "  </tbody>\n",
       "</table>\n",
       "<p>240 rows × 6 columns</p>\n",
       "</div>"
      ],
      "text/plain": [
       "              pub_names  pub_ratings pub_price            pub_neighbourhoods  \\\n",
       "0              The Harp          4.5         £                        Strand   \n",
       "1      The Queen’s Head          4.5        ££                          Soho   \n",
       "2          The Victoria          4.5        ££                    Paddington   \n",
       "3       The Queens Arms          4.5        ££                      Victoria   \n",
       "4           Mother Mash          4.0        ££                          Soho   \n",
       "..                  ...          ...       ...                           ...   \n",
       "235        The Yard Bar          3.5        ££                          Soho   \n",
       "236        Sawyers Arms          3.5        ££                    Paddington   \n",
       "237     The Jugged Hare          4.0        ££                   Westminster   \n",
       "238  The Old Kings Head          4.5        ££  Liverpool Street / Broadgate   \n",
       "239       The Sands End          4.0        ££                        Fulham   \n",
       "\n",
       "     pub_reviews               pub_type  \n",
       "0            138                   Pubs  \n",
       "1             48                   Pubs  \n",
       "2            226            PubsBritish  \n",
       "3            123  BritishPubsGastropubs  \n",
       "4            471                British  \n",
       "..           ...                    ...  \n",
       "235           34               Gay Bars  \n",
       "236           27                   Pubs  \n",
       "237           29                   Pubs  \n",
       "238            2                   Pubs  \n",
       "239           16                   Pubs  \n",
       "\n",
       "[240 rows x 6 columns]"
      ]
     },
     "execution_count": 78,
     "metadata": {},
     "output_type": "execute_result"
    }
   ],
   "source": [
    "data3 = pd.read_csv('C:\\\\Users\\\\ritth\\\\code\\\\Strive\\\\King_Ritthuja\\\\pubs_data.csv')\n",
    "data3"
   ]
  },
  {
   "cell_type": "code",
   "execution_count": 65,
   "metadata": {},
   "outputs": [
    {
     "data": {
      "text/html": [
       "<div>\n",
       "<style scoped>\n",
       "    .dataframe tbody tr th:only-of-type {\n",
       "        vertical-align: middle;\n",
       "    }\n",
       "\n",
       "    .dataframe tbody tr th {\n",
       "        vertical-align: top;\n",
       "    }\n",
       "\n",
       "    .dataframe thead th {\n",
       "        text-align: right;\n",
       "    }\n",
       "</style>\n",
       "<table border=\"1\" class=\"dataframe\">\n",
       "  <thead>\n",
       "    <tr style=\"text-align: right;\">\n",
       "      <th></th>\n",
       "      <th>restaurant_names</th>\n",
       "      <th>restaurant_ratings</th>\n",
       "      <th>restaurant_price</th>\n",
       "      <th>restaurant_neighbourhoods</th>\n",
       "      <th>restaurant_reviews</th>\n",
       "      <th>restaurant_type</th>\n",
       "    </tr>\n",
       "  </thead>\n",
       "  <tbody>\n",
       "    <tr>\n",
       "      <th>0</th>\n",
       "      <td>Restaurant Gordon Ramsay</td>\n",
       "      <td>4.5</td>\n",
       "      <td>££££</td>\n",
       "      <td>Chelsea</td>\n",
       "      <td>215</td>\n",
       "      <td>FrenchBritish</td>\n",
       "    </tr>\n",
       "    <tr>\n",
       "      <th>1</th>\n",
       "      <td>The Mayfair Chippy</td>\n",
       "      <td>4.5</td>\n",
       "      <td>££</td>\n",
       "      <td>Mayfair</td>\n",
       "      <td>296</td>\n",
       "      <td>Fish &amp; Chips</td>\n",
       "    </tr>\n",
       "    <tr>\n",
       "      <th>2</th>\n",
       "      <td>Dishoom</td>\n",
       "      <td>4.5</td>\n",
       "      <td>££</td>\n",
       "      <td>Covent Garden</td>\n",
       "      <td>1894</td>\n",
       "      <td>Indian</td>\n",
       "    </tr>\n",
       "    <tr>\n",
       "      <th>3</th>\n",
       "      <td>The Fat Bear</td>\n",
       "      <td>4.5</td>\n",
       "      <td>££</td>\n",
       "      <td>Blackfriars</td>\n",
       "      <td>124</td>\n",
       "      <td>American (Traditional)Soul FoodCajun/Creole</td>\n",
       "    </tr>\n",
       "    <tr>\n",
       "      <th>4</th>\n",
       "      <td>Duck &amp; Waffle Local</td>\n",
       "      <td>4.5</td>\n",
       "      <td>££</td>\n",
       "      <td>Leicester Square</td>\n",
       "      <td>143</td>\n",
       "      <td>BarsWaffles</td>\n",
       "    </tr>\n",
       "    <tr>\n",
       "      <th>...</th>\n",
       "      <td>...</td>\n",
       "      <td>...</td>\n",
       "      <td>...</td>\n",
       "      <td>...</td>\n",
       "      <td>...</td>\n",
       "      <td>...</td>\n",
       "    </tr>\n",
       "    <tr>\n",
       "      <th>235</th>\n",
       "      <td>Casita Andina</td>\n",
       "      <td>4.5</td>\n",
       "      <td>££</td>\n",
       "      <td>Soho</td>\n",
       "      <td>34</td>\n",
       "      <td>Peruvian</td>\n",
       "    </tr>\n",
       "    <tr>\n",
       "      <th>236</th>\n",
       "      <td>Kerbisher &amp; Malt</td>\n",
       "      <td>4.5</td>\n",
       "      <td>££</td>\n",
       "      <td>West Kensington</td>\n",
       "      <td>91</td>\n",
       "      <td>Fish &amp; Chips</td>\n",
       "    </tr>\n",
       "    <tr>\n",
       "      <th>237</th>\n",
       "      <td>Mamak Don</td>\n",
       "      <td>4.5</td>\n",
       "      <td>NaN</td>\n",
       "      <td>Camden Town</td>\n",
       "      <td>5</td>\n",
       "      <td>MalaysianCamden Town</td>\n",
       "    </tr>\n",
       "    <tr>\n",
       "      <th>238</th>\n",
       "      <td>Annabel’s</td>\n",
       "      <td>4.5</td>\n",
       "      <td>££££</td>\n",
       "      <td>Mayfair</td>\n",
       "      <td>11</td>\n",
       "      <td>BarsBritish</td>\n",
       "    </tr>\n",
       "    <tr>\n",
       "      <th>239</th>\n",
       "      <td>The Oscar Wilde Bar</td>\n",
       "      <td>4.5</td>\n",
       "      <td>££££</td>\n",
       "      <td>Soho</td>\n",
       "      <td>13</td>\n",
       "      <td>Cocktail BarsBritishJazz &amp; Blues</td>\n",
       "    </tr>\n",
       "  </tbody>\n",
       "</table>\n",
       "<p>240 rows × 6 columns</p>\n",
       "</div>"
      ],
      "text/plain": [
       "             restaurant_names  restaurant_ratings restaurant_price  \\\n",
       "0    Restaurant Gordon Ramsay                 4.5             ££££   \n",
       "1          The Mayfair Chippy                 4.5               ££   \n",
       "2                     Dishoom                 4.5               ££   \n",
       "3                The Fat Bear                 4.5               ££   \n",
       "4         Duck & Waffle Local                 4.5               ££   \n",
       "..                        ...                 ...              ...   \n",
       "235             Casita Andina                 4.5               ££   \n",
       "236          Kerbisher & Malt                 4.5               ££   \n",
       "237                 Mamak Don                 4.5              NaN   \n",
       "238                 Annabel’s                 4.5             ££££   \n",
       "239       The Oscar Wilde Bar                 4.5             ££££   \n",
       "\n",
       "    restaurant_neighbourhoods  restaurant_reviews  \\\n",
       "0                     Chelsea                 215   \n",
       "1                     Mayfair                 296   \n",
       "2               Covent Garden                1894   \n",
       "3                 Blackfriars                 124   \n",
       "4            Leicester Square                 143   \n",
       "..                        ...                 ...   \n",
       "235                      Soho                  34   \n",
       "236           West Kensington                  91   \n",
       "237               Camden Town                   5   \n",
       "238                   Mayfair                  11   \n",
       "239                      Soho                  13   \n",
       "\n",
       "                                 restaurant_type  \n",
       "0                                  FrenchBritish  \n",
       "1                                   Fish & Chips  \n",
       "2                                         Indian  \n",
       "3    American (Traditional)Soul FoodCajun/Creole  \n",
       "4                                    BarsWaffles  \n",
       "..                                           ...  \n",
       "235                                     Peruvian  \n",
       "236                                 Fish & Chips  \n",
       "237                         MalaysianCamden Town  \n",
       "238                                  BarsBritish  \n",
       "239             Cocktail BarsBritishJazz & Blues  \n",
       "\n",
       "[240 rows x 6 columns]"
      ]
     },
     "execution_count": 65,
     "metadata": {},
     "output_type": "execute_result"
    }
   ],
   "source": [
    "data1 = pd.read_csv('C:\\\\Users\\\\ritth\\\\code\\\\Strive\\\\King_Ritthuja\\\\restaurant_data.csv')\n",
    "data1"
   ]
  },
  {
   "cell_type": "markdown",
   "metadata": {},
   "source": [
    "# Restaurant Distribution"
   ]
  },
  {
   "cell_type": "code",
   "execution_count": 89,
   "metadata": {},
   "outputs": [],
   "source": [
    "fig = px.histogram(data1, x='restaurant_ratings')"
   ]
  },
  {
   "cell_type": "code",
   "execution_count": 90,
   "metadata": {},
   "outputs": [],
   "source": [
    "fig1 = px.histogram(data2, x='hotel_ratings')"
   ]
  },
  {
   "cell_type": "code",
   "execution_count": 91,
   "metadata": {},
   "outputs": [],
   "source": [
    "fig2 = px.histogram(data3, x='pub_ratings')"
   ]
  },
  {
   "cell_type": "markdown",
   "metadata": {},
   "source": [
    "### Sum"
   ]
  },
  {
   "cell_type": "code",
   "execution_count": 6,
   "metadata": {},
   "outputs": [
    {
     "data": {
      "text/plain": [
       "26340"
      ]
     },
     "execution_count": 6,
     "metadata": {},
     "output_type": "execute_result"
    }
   ],
   "source": [
    "res_sum = data1['restaurant_reviews'].sum()\n",
    "res_sum"
   ]
  },
  {
   "cell_type": "code",
   "execution_count": 8,
   "metadata": {},
   "outputs": [
    {
     "data": {
      "text/plain": [
       "7174.0"
      ]
     },
     "execution_count": 8,
     "metadata": {},
     "output_type": "execute_result"
    }
   ],
   "source": [
    "hot_sum = data2['hotel_reviews'].sum()\n",
    "hot_sum"
   ]
  },
  {
   "cell_type": "code",
   "execution_count": 9,
   "metadata": {},
   "outputs": [
    {
     "data": {
      "text/plain": [
       "14970"
      ]
     },
     "execution_count": 9,
     "metadata": {},
     "output_type": "execute_result"
    }
   ],
   "source": [
    "pub_sum = data3['pub_reviews'].sum()\n",
    "pub_sum"
   ]
  },
  {
   "cell_type": "code",
   "execution_count": 84,
   "metadata": {},
   "outputs": [
    {
     "data": {
      "text/plain": [
       "1038.0"
      ]
     },
     "execution_count": 84,
     "metadata": {},
     "output_type": "execute_result"
    }
   ],
   "source": [
    "res_sum1 = data1['restaurant_ratings'].sum()\n",
    "res_sum1"
   ]
  },
  {
   "cell_type": "code",
   "execution_count": 85,
   "metadata": {},
   "outputs": [
    {
     "data": {
      "text/plain": [
       "923.5"
      ]
     },
     "execution_count": 85,
     "metadata": {},
     "output_type": "execute_result"
    }
   ],
   "source": [
    "hot_sum1 = data2['hotel_ratings'].sum()\n",
    "hot_sum1"
   ]
  },
  {
   "cell_type": "code",
   "execution_count": 86,
   "metadata": {},
   "outputs": [
    {
     "data": {
      "text/plain": [
       "968.0"
      ]
     },
     "execution_count": 86,
     "metadata": {},
     "output_type": "execute_result"
    }
   ],
   "source": [
    "pub_sum1 = data3['pub_ratings'].sum()\n",
    "pub_sum1"
   ]
  },
  {
   "cell_type": "markdown",
   "metadata": {},
   "source": [
    "### Mean"
   ]
  },
  {
   "cell_type": "code",
   "execution_count": 10,
   "metadata": {},
   "outputs": [
    {
     "data": {
      "text/plain": [
       "4.325"
      ]
     },
     "execution_count": 10,
     "metadata": {},
     "output_type": "execute_result"
    }
   ],
   "source": [
    "res1 = data1['restaurant_ratings'].mean()\n",
    "res1"
   ]
  },
  {
   "cell_type": "code",
   "execution_count": 11,
   "metadata": {},
   "outputs": [
    {
     "data": {
      "text/plain": [
       "3.963519313304721"
      ]
     },
     "execution_count": 11,
     "metadata": {},
     "output_type": "execute_result"
    }
   ],
   "source": [
    "hot1 = data2['hotel_ratings'].mean()\n",
    "hot1"
   ]
  },
  {
   "cell_type": "code",
   "execution_count": 12,
   "metadata": {},
   "outputs": [
    {
     "data": {
      "text/plain": [
       "4.033333333333333"
      ]
     },
     "execution_count": 12,
     "metadata": {},
     "output_type": "execute_result"
    }
   ],
   "source": [
    "pub1 = data3['pub_ratings'].mean()\n",
    "pub1"
   ]
  },
  {
   "cell_type": "code",
   "execution_count": 13,
   "metadata": {},
   "outputs": [
    {
     "data": {
      "text/plain": [
       "109.75"
      ]
     },
     "execution_count": 13,
     "metadata": {},
     "output_type": "execute_result"
    }
   ],
   "source": [
    "res2 = data1['restaurant_reviews'].mean()\n",
    "res2"
   ]
  },
  {
   "cell_type": "code",
   "execution_count": 14,
   "metadata": {},
   "outputs": [
    {
     "data": {
      "text/plain": [
       "30.78969957081545"
      ]
     },
     "execution_count": 14,
     "metadata": {},
     "output_type": "execute_result"
    }
   ],
   "source": [
    "hot2 = data2['hotel_reviews'].mean()\n",
    "hot2"
   ]
  },
  {
   "cell_type": "code",
   "execution_count": 15,
   "metadata": {},
   "outputs": [
    {
     "data": {
      "text/plain": [
       "62.375"
      ]
     },
     "execution_count": 15,
     "metadata": {},
     "output_type": "execute_result"
    }
   ],
   "source": [
    "pub2 = data3['pub_reviews'].mean()\n",
    "pub2"
   ]
  },
  {
   "cell_type": "markdown",
   "metadata": {},
   "source": [
    "### Box plot"
   ]
  },
  {
   "cell_type": "code",
   "execution_count": 81,
   "metadata": {},
   "outputs": [],
   "source": [
    "fig = px.box(data1, x=\"restaurant_ratings\", y='restaurant_reviews')"
   ]
  },
  {
   "cell_type": "code",
   "execution_count": 82,
   "metadata": {},
   "outputs": [],
   "source": [
    "fig1 = px.box(data2, x=\"hotel_ratings\", y='hotel_reviews')"
   ]
  },
  {
   "cell_type": "code",
   "execution_count": 83,
   "metadata": {},
   "outputs": [],
   "source": [
    "fig2 = px.box(data3, x=\"pub_ratings\", y='pub_reviews')"
   ]
  },
  {
   "cell_type": "markdown",
   "metadata": {},
   "source": [
    "### Price Mean"
   ]
  },
  {
   "cell_type": "code",
   "execution_count": 66,
   "metadata": {},
   "outputs": [],
   "source": [
    "mapper = {'£':1, '££':2, '£££':3, '££££':4}\n",
    "data1['restaurant_price'] = data1['restaurant_price'].map(mapper)"
   ]
  },
  {
   "cell_type": "code",
   "execution_count": 68,
   "metadata": {},
   "outputs": [
    {
     "data": {
      "text/plain": [
       "2.242424242424242"
      ]
     },
     "execution_count": 68,
     "metadata": {},
     "output_type": "execute_result"
    }
   ],
   "source": [
    "res_price_mean = data1['restaurant_price'].mean()\n",
    "res_price_mean"
   ]
  },
  {
   "cell_type": "code",
   "execution_count": 76,
   "metadata": {},
   "outputs": [],
   "source": [
    "mapper = {'£':1, '££':2, '£££':3, '££££':4}\n",
    "data2['hotel_price'] = data2['hotel_price'].map(mapper)"
   ]
  },
  {
   "cell_type": "code",
   "execution_count": 77,
   "metadata": {},
   "outputs": [
    {
     "data": {
      "text/plain": [
       "2.62"
      ]
     },
     "execution_count": 77,
     "metadata": {},
     "output_type": "execute_result"
    }
   ],
   "source": [
    "hotel_price_mean= data2['hotel_price'].mean()\n",
    "hotel_price_mean"
   ]
  },
  {
   "cell_type": "code",
   "execution_count": 79,
   "metadata": {},
   "outputs": [],
   "source": [
    "mapper = {'£':1, '££':2, '£££':3, '££££':4}\n",
    "data3['pub_price'] = data3['pub_price'].map(mapper)"
   ]
  },
  {
   "cell_type": "code",
   "execution_count": 80,
   "metadata": {},
   "outputs": [
    {
     "data": {
      "text/plain": [
       "2.017094017094017"
      ]
     },
     "execution_count": 80,
     "metadata": {},
     "output_type": "execute_result"
    }
   ],
   "source": [
    "pub_price_mean= data3['pub_price'].mean()\n",
    "pub_price_mean"
   ]
  },
  {
   "cell_type": "markdown",
   "metadata": {},
   "source": [
    "#### Multiply price by reviews"
   ]
  },
  {
   "cell_type": "code",
   "execution_count": null,
   "metadata": {},
   "outputs": [],
   "source": []
  }
 ],
 "metadata": {
  "interpreter": {
   "hash": "73592dad14db8f3994cd458d5e0995dad9821ca28205c2106249abcaba41cb67"
  },
  "kernelspec": {
   "display_name": "Python 3.8.12 ('strive')",
   "language": "python",
   "name": "python3"
  },
  "language_info": {
   "codemirror_mode": {
    "name": "ipython",
    "version": 3
   },
   "file_extension": ".py",
   "mimetype": "text/x-python",
   "name": "python",
   "nbconvert_exporter": "python",
   "pygments_lexer": "ipython3",
   "version": "3.8.12"
  },
  "orig_nbformat": 4
 },
 "nbformat": 4,
 "nbformat_minor": 2
}
