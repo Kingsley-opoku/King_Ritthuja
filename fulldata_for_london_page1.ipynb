{
 "cells": [
  {
   "cell_type": "code",
   "execution_count": 2,
   "metadata": {},
   "outputs": [],
   "source": [
    "import requests\n",
    "from bs4  import BeautifulSoup\n",
    "import pandas as pd\n",
    "import numpy as np\n",
    "\n",
    "from time import sleep\n",
    "from random import randint\n",
    "from warnings import warn\n",
    "from time import time"
   ]
  },
  {
   "cell_type": "markdown",
   "metadata": {},
   "source": [
    "## Restaurant"
   ]
  },
  {
   "cell_type": "code",
   "execution_count": 6,
   "metadata": {},
   "outputs": [
    {
     "name": "stdout",
     "output_type": "stream",
     "text": [
      "<Response [200]>\n",
      "Request:1; Frequency: 0.05400274302205798 requests/s\n",
      "<Response [200]>\n",
      "Request:2; Frequency: 0.06537721508885296 requests/s\n",
      "<Response [200]>\n",
      "Request:3; Frequency: 0.06889207906700058 requests/s\n",
      "<Response [200]>\n",
      "Request:4; Frequency: 0.06439553989574175 requests/s\n",
      "<Response [200]>\n",
      "Request:5; Frequency: 0.06546216175008474 requests/s\n",
      "<Response [200]>\n",
      "Request:6; Frequency: 0.06189250629800498 requests/s\n",
      "<Response [200]>\n",
      "Request:7; Frequency: 0.06417809003090115 requests/s\n",
      "<Response [200]>\n",
      "Request:8; Frequency: 0.06297737903028289 requests/s\n",
      "<Response [200]>\n",
      "Request:9; Frequency: 0.06388302960352578 requests/s\n",
      "<Response [200]>\n",
      "Request:10; Frequency: 0.061926138815926464 requests/s\n",
      "<Response [200]>\n",
      "Request:11; Frequency: 0.06185275398691129 requests/s\n",
      "<Response [200]>\n",
      "Request:12; Frequency: 0.06186256823638517 requests/s\n",
      "<Response [200]>\n",
      "Request:13; Frequency: 0.06234797621922646 requests/s\n",
      "<Response [200]>\n",
      "Request:14; Frequency: 0.061465100536033636 requests/s\n",
      "<Response [200]>\n",
      "Request:15; Frequency: 0.06241909061637262 requests/s\n",
      "<Response [200]>\n",
      "Request:16; Frequency: 0.061631502401862825 requests/s\n",
      "<Response [200]>\n",
      "Request:17; Frequency: 0.0628439234300646 requests/s\n",
      "<Response [200]>\n",
      "Request:18; Frequency: 0.06347793620551437 requests/s\n",
      "<Response [200]>\n",
      "Request:19; Frequency: 0.06331672202507017 requests/s\n",
      "<Response [200]>\n",
      "Request:20; Frequency: 0.06318383546414073 requests/s\n",
      "<Response [200]>\n",
      "Request:21; Frequency: 0.06315853469766446 requests/s\n",
      "<Response [200]>\n",
      "Request:22; Frequency: 0.06410574821608227 requests/s\n",
      "<Response [200]>\n",
      "Request:23; Frequency: 0.06309133196843301 requests/s\n",
      "<Response [200]>\n",
      "Request:24; Frequency: 0.0627659216671779 requests/s\n"
     ]
    }
   ],
   "source": [
    "#  1 webscraping Hotels\n",
    "# Monitoring of the loop\n",
    "start_time = time()\n",
    "request = 0\n",
    "\n",
    "# Dictionary for storing web content\n",
    "soup_r = {}\n",
    "for start_num in range(0, 240, 10):\n",
    "\n",
    "    # Make a request\n",
    "    url = f\" https://www.yelp.com/search?find_desc=Restaurants&find_loc=london&start={start_num}\"\n",
    "    response = requests.get(url)\n",
    "\n",
    "    # Pause the loop\n",
    "    sleep(randint(8,15))\n",
    "    print(response)\n",
    "    page = BeautifulSoup(response.content, 'html.parser')\n",
    "    soup_r[start_num] = page\n",
    "\n",
    "\n",
    "    # Monitor the requests\n",
    "    request += 1\n",
    "    elapsed_time = time() - start_time\n",
    "    print('Request:{}; Frequency: {} requests/s'.format(request, request/elapsed_time))\n",
    "    #clear_output(wait = True)\n",
    "\n",
    "    # Throw a warning if request wasn't successful\n",
    "    if response.status_code != 200:\n",
    "        warn('Request: {}; Status code: {}'.format(request, response.status_code))"
   ]
  },
  {
   "cell_type": "code",
   "execution_count": 7,
   "metadata": {},
   "outputs": [],
   "source": [
    "resto_soup = pd.DataFrame([soup_r]).squeeze()"
   ]
  },
  {
   "cell_type": "markdown",
   "metadata": {},
   "source": [
    "### Name"
   ]
  },
  {
   "cell_type": "code",
   "execution_count": 8,
   "metadata": {},
   "outputs": [
    {
     "name": "stdout",
     "output_type": "stream",
     "text": [
      "Restaurant Gordon Ramsay\n",
      "The Mayfair Chippy\n",
      "Dishoom\n",
      "The Fat Bear\n",
      "Duck & Waffle Local\n",
      "Honey & Co\n",
      "Duck & Waffle\n",
      "The Breakfast Club\n",
      "Flat Iron\n",
      "The Queens Arms\n",
      "The Victoria\n",
      "Padella\n",
      "Circolo Popolare\n",
      "Sketch\n",
      "Hawksmoor Seven Dials\n",
      "Abeno\n",
      "Mother Mash\n",
      "Granger & Co\n",
      "Gordon Ramsay Street Pizza\n",
      "The Golden Chippy\n",
      "The Ivy\n",
      "The Grazing Goat Marylebone\n",
      "Ye Olde Cheshire Cheese\n",
      "Dishoom\n",
      "Fuckoffee\n",
      "Lanzhou Noodle Bar\n",
      "Barrafina\n",
      "The Rum Kitchen\n",
      "NOPI\n",
      "Hide\n",
      "The Churchill Arms\n",
      "The Ledbury\n",
      "Ottolenghi\n",
      "Cecconi’s Mayfair\n",
      "Eggslut\n",
      "The Ivy Chelsea Garden\n",
      "Belgo Centraal\n",
      "Seoul Bakery\n",
      "Jinjuu\n",
      "Ffiona’s Restaurant\n",
      "BAO - Soho\n",
      "The Alchemist\n",
      "Holborn Dining Room\n",
      "Mestizo\n",
      "The Barge House\n",
      "Kiln\n",
      "Belgo Centraal\n",
      "The English Rose Cafe and Tea Shop\n",
      "Berners Tavern\n",
      "Burger & Lobster\n",
      "39 Steps Coffee\n",
      "The Palomar Restaurant\n",
      "Yauatcha\n",
      "Brasserie Zédel\n",
      "Carmen Bar De Tapas\n",
      "Drunch Regent’s Park\n",
      "Rules\n",
      "Arabesque\n",
      "Regency Café\n",
      "Dominique Ansel Treehouse\n",
      "Pieminister\n",
      "Koya Soho\n",
      "Bradleys Restaurant\n",
      "Ngon Ngon\n",
      "Naru\n",
      "Haidilao Hot Pot\n",
      "Savoir Faire\n",
      "Shoryu Ramen\n",
      "London House by Gordon Ramsay\n",
      "Bocca Di Lupo\n",
      "Savoir Faire\n",
      "Brasserie Zédel\n",
      "London House by Gordon Ramsay\n",
      "HOOK\n",
      "Carmen Bar De Tapas\n",
      "Bocca Di Lupo\n",
      "Maggie Jones’s\n",
      "Frenchie Covent Garden\n",
      "Da Mario Restaurant\n",
      "Rumours\n",
      "St John Bar and Restaurant\n",
      "Erebuni Restaurant\n",
      "La Patagonia\n",
      "Hammer & Tongs\n",
      "Texas Joe’s\n",
      "Xi’An BiangBiang Noodles\n",
      "Zeitgeist\n",
      "Kintan Japanese BBQ\n",
      "Mar I Terra\n",
      "Milk\n",
      "Persepolis\n",
      "Piccolino\n",
      "The Table\n",
      "Wahaca\n",
      "Gloria\n",
      "Sushi Tetsu\n",
      "Orsini\n",
      "Eat Aroi Thai\n",
      "Blacklock\n",
      "Cereal Killer Cafe\n",
      "Bibimbap\n",
      "San Carlo Cicchetti\n",
      "The Wilmington\n",
      "Balthazar\n",
      "Kanada-Ya\n",
      "Restaurant Story\n",
      "Bbar\n",
      "Maria Sabina\n",
      "The Narrow by Gordon Ramsay\n",
      "The Pig and Butcher\n",
      "The Pig and Butcher\n",
      "Nambu Tei\n",
      "Andina\n",
      "Seabird\n",
      "The Wolseley\n",
      "Cacciari’s\n",
      "Barrafina\n",
      "Dinner by Heston Blumenthal\n",
      "Honest Burgers Meard St - Soho\n",
      "Lobos Meat and Tapas\n",
      "Andrew Edmunds\n",
      "Chiltern Firehouse\n",
      "Sweet Chick\n",
      "Phat Phuc Noodle Bar\n",
      "Costa Azul\n",
      "Kazu\n",
      "Ramo Ramen\n",
      "Ottolenghi\n",
      "Negril\n",
      "Flour & Grape\n",
      "Cirilo Filipino Kainan\n",
      "Goodman\n",
      "Tito’s\n",
      "The Orangery\n",
      "Sweet Chick\n",
      "The Oystermen Seafood Bar & Kitchen\n",
      "Soho Joe\n",
      "Flour & Grape\n",
      "L’ETO\n",
      "Frog By Adam Handling\n",
      "Hawksmoor Guildhall\n",
      "Liman Kitchen\n",
      "Social Eating House\n",
      "Nando’s\n",
      "Baltic Bar and Restaurant\n",
      "Sexy Fish\n",
      "Yasmeen Restaurant\n",
      "The George Inn\n",
      "Lobos Meat and Tapas\n",
      "Tito’s\n",
      "Tokyo Sukiyaki-Tei\n",
      "Hawksmoor\n",
      "Farm Girl Cafe\n",
      "Pesantissimo\n",
      "Gastronomica\n",
      "Paladar\n",
      "Hoppers\n",
      "Warisan Cafe\n",
      "The Anchor and Hope\n",
      "The Windmill\n",
      "Greenberry Café\n",
      "Tayyabs\n",
      "The Ivy\n",
      "Shake Shuka\n",
      "Where the Pancakes are\n",
      "The Swan\n",
      "Homeslice Neal’s Yard\n",
      "The Alchemist\n",
      "Scully\n",
      "Scott’s\n",
      "The Princess Victoria\n",
      "Istanbul Cafe Bistro\n",
      "Apollo Restaurant Taverna\n",
      "Sandwich Shop\n",
      "Albertini Restaurant\n",
      "Casa do Frango\n",
      "Thai Square\n",
      "The Book Club\n",
      "Uyghur Restaurant\n",
      "Xi’an Impressions\n",
      "Xi’an Impressions\n",
      "Albertini Restaurant\n",
      "Core by Clare Smyth\n",
      "Farmacy\n",
      "Ugly Dumpling\n",
      "River View Chinese Restaurant\n",
      "Absurd Bird Soho\n",
      "Cacio & Pepe\n",
      "Heist Bank\n",
      "Al Balad\n",
      "The Roof Deck Restaurant and Bar, Selfridges\n",
      "The Pig & Goose at the George on the Strand\n",
      "Fish Bone\n",
      "Crispin\n",
      "The Harwood Arms\n",
      "The Ivy In the Park\n",
      "The Ninth London\n",
      "Farmacy\n",
      "Wright Brothers\n",
      "Negril\n",
      "Crispin\n",
      "Lahpet\n",
      "The Ivy In the Park\n",
      "Korean Bbq and Vegan\n",
      "The Ninth London\n",
      "The Harwood Arms\n",
      "Ethos\n",
      "VQ Euston\n",
      "Trinidad Roti Shop Carribean Cusine\n",
      "The Lobster Pot\n",
      "Polo 24 Hour Bar\n",
      "The Clove Club\n",
      "Cafe Vienna\n",
      "Beany Green\n",
      "Bierschenke\n",
      "Fish Bone\n",
      "Chilango\n",
      "Flor\n",
      "Nando’s\n",
      "The Oscar Wilde Bar\n",
      "Nandos\n",
      "Jin Kichi\n",
      "Bill’s\n",
      "Istanbul Meze & Grill Restaurant\n",
      "Heddon Street Kitchen\n",
      "Tokyo Diner\n",
      "Lemonia\n",
      "New London Cafe\n",
      "Farm Girl\n",
      "Battersea Pie\n",
      "Koya City\n",
      "Balaio Brazilian Grill\n",
      "Yatri Indian Restaurant\n",
      "Nando’s\n",
      "Polo 24 Hour Bar\n",
      "Casita Andina\n",
      "Kerbisher & Malt\n",
      "Mamak Don\n",
      "Annabel’s\n",
      "The Oscar Wilde Bar\n"
     ]
    }
   ],
   "source": [
    "name = []\n",
    "for row in resto_soup:  \n",
    "    result = row.select('.css-1egxyvc .css-1m051bw') \n",
    "    for tag in result:\n",
    "        print(tag.text)\n",
    "        name.append(tag.text)"
   ]
  },
  {
   "cell_type": "code",
   "execution_count": 16,
   "metadata": {},
   "outputs": [],
   "source": [
    "# pd.Series(name).value_counts()"
   ]
  },
  {
   "cell_type": "markdown",
   "metadata": {},
   "source": [
    "### Ratings"
   ]
  },
  {
   "cell_type": "code",
   "execution_count": 9,
   "metadata": {},
   "outputs": [],
   "source": [
    "rating = []\n",
    "container_class = 'container__09f24__mpR8_ hoverable__09f24__wQ_on margin-t3__09f24__riq4X margin-b3__09f24__l9v5d padding-t3__09f24__TMrIW padding-r3__09f24__eaF7p padding-b3__09f24__S8R2d padding-l3__09f24__IOjKY border--top__09f24__exYYb border--right__09f24__X7Tln border--bottom__09f24___mg5X border--left__09f24__DMOkM border-color--default__09f24__NPAKY'\n",
    "for row in resto_soup:\n",
    "    result = row.find_all(class_ = container_class)\n",
    "\n",
    "    for tag in result:\n",
    "        header_text = tag.div.div.div.nextSibling.div\n",
    "        rat = header_text.select_one('.overflow--hidden__09f24___ayzG')\n",
    "        if rat is not None:\n",
    "            rating.append(rat['aria-label'].split()[0])\n",
    "        else:\n",
    "            rating.append(np.nan)"
   ]
  },
  {
   "cell_type": "code",
   "execution_count": 18,
   "metadata": {},
   "outputs": [],
   "source": [
    "# test\n",
    "# for n, rat in zip(name, rating):\n",
    "#     print(n, rat) "
   ]
  },
  {
   "cell_type": "markdown",
   "metadata": {},
   "source": [
    "### Reviews"
   ]
  },
  {
   "cell_type": "code",
   "execution_count": 10,
   "metadata": {},
   "outputs": [],
   "source": [
    "reviews = []\n",
    "container_class = 'container__09f24__mpR8_ hoverable__09f24__wQ_on margin-t3__09f24__riq4X margin-b3__09f24__l9v5d padding-t3__09f24__TMrIW padding-r3__09f24__eaF7p padding-b3__09f24__S8R2d padding-l3__09f24__IOjKY border--top__09f24__exYYb border--right__09f24__X7Tln border--bottom__09f24___mg5X border--left__09f24__DMOkM border-color--default__09f24__NPAKY'\n",
    "for row in resto_soup:\n",
    "    result = row.find_all(class_ = container_class)\n",
    "\n",
    "    for tag in result:\n",
    "        header_text = tag.div.div.div.nextSibling.div\n",
    "        rev = header_text.select_one('.reviewCount__09f24__tnBk4')\n",
    "        if rev is not None:\n",
    "            reviews.append(rev.text)\n",
    "        else:\n",
    "            reviews.append(np.nan)"
   ]
  },
  {
   "cell_type": "code",
   "execution_count": 20,
   "metadata": {},
   "outputs": [],
   "source": [
    "# test\n",
    "# for n, rev in zip(name, reviews):\n",
    "#     print(n, rev) "
   ]
  },
  {
   "cell_type": "markdown",
   "metadata": {},
   "source": [
    "### Price"
   ]
  },
  {
   "cell_type": "code",
   "execution_count": 11,
   "metadata": {},
   "outputs": [],
   "source": [
    "price_range = []\n",
    "container_class = 'container__09f24__mpR8_ hoverable__09f24__wQ_on margin-t3__09f24__riq4X margin-b3__09f24__l9v5d padding-t3__09f24__TMrIW padding-r3__09f24__eaF7p padding-b3__09f24__S8R2d padding-l3__09f24__IOjKY border--top__09f24__exYYb border--right__09f24__X7Tln border--bottom__09f24___mg5X border--left__09f24__DMOkM border-color--default__09f24__NPAKY'\n",
    "for row in resto_soup:\n",
    "    result = row.find_all(class_ = container_class)\n",
    "\n",
    "    for tag in result:\n",
    "        header_text = tag.div.div.div.nextSibling.div\n",
    "        price = header_text.select_one('.css-1s7bx9e')\n",
    "        if price is not None:\n",
    "            price_range.append(price.text)\n",
    "        else:\n",
    "            price_range.append(np.nan)"
   ]
  },
  {
   "cell_type": "code",
   "execution_count": 23,
   "metadata": {},
   "outputs": [],
   "source": [
    "# test\n",
    "# for n, price in zip(name, price_range):\n",
    "#     print(n, price)\n"
   ]
  },
  {
   "cell_type": "markdown",
   "metadata": {},
   "source": [
    "### Neighbours"
   ]
  },
  {
   "cell_type": "code",
   "execution_count": 12,
   "metadata": {},
   "outputs": [],
   "source": [
    "neig = []\n",
    "container_class = 'container__09f24__mpR8_ hoverable__09f24__wQ_on margin-t3__09f24__riq4X margin-b3__09f24__l9v5d padding-t3__09f24__TMrIW padding-r3__09f24__eaF7p padding-b3__09f24__S8R2d padding-l3__09f24__IOjKY border--top__09f24__exYYb border--right__09f24__X7Tln border--bottom__09f24___mg5X border--left__09f24__DMOkM border-color--default__09f24__NPAKY'\n",
    "for row in resto_soup:\n",
    "    result = row.find_all(class_ = container_class)\n",
    "\n",
    "    for tag in result:\n",
    "        header_text = tag.div.div.div.nextSibling.div\n",
    "        neigh = header_text.select_one('.css-dzq7l1 .css-chan6m')\n",
    "        if neigh is not None:\n",
    "            neig.append(neigh.text)\n",
    "        else:\n",
    "            neig.append(np.nan)"
   ]
  },
  {
   "cell_type": "code",
   "execution_count": 30,
   "metadata": {},
   "outputs": [],
   "source": [
    "# neig"
   ]
  },
  {
   "cell_type": "markdown",
   "metadata": {},
   "source": [
    "### Type"
   ]
  },
  {
   "cell_type": "code",
   "execution_count": 13,
   "metadata": {},
   "outputs": [],
   "source": [
    "type_res = []\n",
    "container_class = 'container__09f24__mpR8_ hoverable__09f24__wQ_on margin-t3__09f24__riq4X margin-b3__09f24__l9v5d padding-t3__09f24__TMrIW padding-r3__09f24__eaF7p padding-b3__09f24__S8R2d padding-l3__09f24__IOjKY border--top__09f24__exYYb border--right__09f24__X7Tln border--bottom__09f24___mg5X border--left__09f24__DMOkM border-color--default__09f24__NPAKY'\n",
    "for row in resto_soup:\n",
    "    result = row.find_all(class_ = container_class)\n",
    "\n",
    "    for tag in result:\n",
    "        header_text = tag.div.div.div.nextSibling.div\n",
    "        type = header_text.select_one('.css-dzq7l1')\n",
    "        if type is not None:\n",
    "            types_output = type.text\n",
    "            type_res.append(types_output.split('€')[0])\n",
    "        else:\n",
    "            type_res.append(np.nan)"
   ]
  },
  {
   "cell_type": "code",
   "execution_count": 56,
   "metadata": {},
   "outputs": [],
   "source": [
    "# type_res"
   ]
  },
  {
   "cell_type": "markdown",
   "metadata": {},
   "source": [
    "# Dataframe"
   ]
  },
  {
   "cell_type": "code",
   "execution_count": 14,
   "metadata": {},
   "outputs": [],
   "source": [
    "restaurant_df = pd.DataFrame({'restaurant_names':name, 'restaurant_ratings':rating, 'restaurant_reviews': reviews, 'restaurant_price': price_range, 'restaurant_neighbourhoods': neig, 'restaurant_type': type_res})"
   ]
  },
  {
   "cell_type": "code",
   "execution_count": 15,
   "metadata": {},
   "outputs": [],
   "source": [
    "# store data\n",
    "restaurant_df.to_csv('restaurant_data.csv', index=False)"
   ]
  },
  {
   "cell_type": "code",
   "execution_count": 61,
   "metadata": {},
   "outputs": [],
   "source": [
    "#restaurant_df.head()"
   ]
  },
  {
   "cell_type": "code",
   "execution_count": 114,
   "metadata": {},
   "outputs": [],
   "source": [
    "#restaurant_df.info()"
   ]
  },
  {
   "cell_type": "code",
   "execution_count": 34,
   "metadata": {},
   "outputs": [],
   "source": [
    "# Missing values\n",
    "#restaurant_df.isnull().sum().sort_values(ascending=False)"
   ]
  },
  {
   "cell_type": "code",
   "execution_count": 32,
   "metadata": {},
   "outputs": [],
   "source": [
    "# duplicates values\n",
    "#restaurant_df[restaurant_df.duplicated()]"
   ]
  },
  {
   "cell_type": "markdown",
   "metadata": {},
   "source": [
    "### Changing Price value"
   ]
  },
  {
   "cell_type": "code",
   "execution_count": 17,
   "metadata": {},
   "outputs": [],
   "source": [
    "# Price range (price per person)\n",
    "# Based on information from yelp and Quora:\n",
    "# $= under $10. $$=11-30. $$$=31-60. $$$$= over $61\n",
    "# Converting to pound\n",
    "\n",
    "# 1 pound = 1.31 USD\n",
    "Euro = (pd.Series([10, 11, 30, 31, 60, 61]) * 1.31).apply(lambda x: int(x))\n",
    "#print(Euro)\n",
    "mapper = {'£':'under 13', '££':'[14 - 39]', '£££':'[40 - 78]', '££££':'over 79'}\n",
    "restaurant_df['restaurant_price'] = restaurant_df['restaurant_price'].map(mapper)"
   ]
  },
  {
   "cell_type": "code",
   "execution_count": 59,
   "metadata": {},
   "outputs": [],
   "source": [
    "# Top 20 Most reviews\n",
    "\n",
    "#restaurant_df.sort_values(by='Reviews', ascending=False).head(20)"
   ]
  },
  {
   "cell_type": "code",
   "execution_count": 14,
   "metadata": {},
   "outputs": [],
   "source": [
    "# Rating and number of reviews\n",
    "restaurant_df['restaurant_ratings'] = restaurant_df['restaurant_ratings'].apply(lambda x: float(x)) \n",
    "restaurant_df['restaurant_reviews'] = restaurant_df['restaurant_reviews'].apply(lambda x: float(x))\n",
    "\n",
    "#restaurant_df.describe()"
   ]
  },
  {
   "cell_type": "markdown",
   "metadata": {},
   "source": [
    "# Hotels"
   ]
  },
  {
   "cell_type": "code",
   "execution_count": 17,
   "metadata": {},
   "outputs": [
    {
     "name": "stdout",
     "output_type": "stream",
     "text": [
      "<Response [200]>\n",
      "Request:1; Frequency: 0.0905118790065166 requests/s\n",
      "<Response [200]>\n",
      "Request:2; Frequency: 0.07170895257713836 requests/s\n",
      "<Response [200]>\n",
      "Request:3; Frequency: 0.06886014306986411 requests/s\n",
      "<Response [200]>\n",
      "Request:4; Frequency: 0.07175111676928002 requests/s\n",
      "<Response [200]>\n",
      "Request:5; Frequency: 0.0729300743921173 requests/s\n",
      "<Response [200]>\n",
      "Request:6; Frequency: 0.07412134489470248 requests/s\n",
      "<Response [200]>\n",
      "Request:7; Frequency: 0.07484024786574182 requests/s\n",
      "<Response [200]>\n",
      "Request:8; Frequency: 0.07314828516044275 requests/s\n",
      "<Response [200]>\n",
      "Request:9; Frequency: 0.07056979519331553 requests/s\n",
      "<Response [200]>\n",
      "Request:10; Frequency: 0.07004031369527525 requests/s\n",
      "<Response [200]>\n",
      "Request:11; Frequency: 0.06969967482006237 requests/s\n",
      "<Response [200]>\n",
      "Request:12; Frequency: 0.06819459533511969 requests/s\n",
      "<Response [200]>\n",
      "Request:13; Frequency: 0.06683683446425881 requests/s\n",
      "<Response [200]>\n",
      "Request:14; Frequency: 0.06749697104352449 requests/s\n",
      "<Response [200]>\n",
      "Request:15; Frequency: 0.06795789133044451 requests/s\n",
      "<Response [200]>\n",
      "Request:16; Frequency: 0.06878773854440697 requests/s\n",
      "<Response [200]>\n",
      "Request:17; Frequency: 0.06808309275209153 requests/s\n",
      "<Response [200]>\n",
      "Request:18; Frequency: 0.0674900272770749 requests/s\n",
      "<Response [200]>\n",
      "Request:19; Frequency: 0.06767597671692564 requests/s\n",
      "<Response [200]>\n",
      "Request:20; Frequency: 0.06689846372895812 requests/s\n",
      "<Response [200]>\n",
      "Request:21; Frequency: 0.06647530772138993 requests/s\n",
      "<Response [200]>\n",
      "Request:22; Frequency: 0.06583282130171833 requests/s\n",
      "<Response [200]>\n",
      "Request:23; Frequency: 0.0660290438043225 requests/s\n",
      "<Response [200]>\n",
      "Request:24; Frequency: 0.06636444407613143 requests/s\n"
     ]
    }
   ],
   "source": [
    "#  1 webscraping Hotels\n",
    "# Monitoring of the loop\n",
    "start_time = time()\n",
    "request = 0\n",
    "\n",
    "# Dictionary for storing web content\n",
    "soup_r = {}\n",
    "for start_num in range(0, 240, 10):\n",
    "\n",
    "    # Make a request\n",
    "    url = f\"https://www.yelp.com/search?find_desc=Hotels&find_loc=london&start={start_num}\"\n",
    "    response = requests.get(url)\n",
    "\n",
    "    # Pause the loop\n",
    "    sleep(randint(8,15))\n",
    "    print(response)\n",
    "    page = BeautifulSoup(response.content, 'html.parser')\n",
    "    soup_r[start_num] = page\n",
    "\n",
    "\n",
    "    # Monitor the requests\n",
    "    request += 1\n",
    "    elapsed_time = time() - start_time\n",
    "    print('Request:{}; Frequency: {} requests/s'.format(request, request/elapsed_time))\n",
    "    #clear_output(wait = True)\n",
    "\n",
    "    # Throw a warning if request wasn't successful\n",
    "    if response.status_code != 200:\n",
    "        warn('Request: {}; Status code: {}'.format(request, response.status_code))"
   ]
  },
  {
   "cell_type": "code",
   "execution_count": 18,
   "metadata": {},
   "outputs": [],
   "source": [
    "hotel_soup = pd.DataFrame([soup_r]).squeeze()"
   ]
  },
  {
   "cell_type": "markdown",
   "metadata": {},
   "source": [
    "### Name"
   ]
  },
  {
   "cell_type": "code",
   "execution_count": 19,
   "metadata": {},
   "outputs": [],
   "source": [
    "name = []\n",
    "for row in hotel_soup:  \n",
    "    result = row.select('.css-1m051bw') \n",
    "    for tag in result:\n",
    "        print(tag.text)\n",
    "        name.append(tag.text)"
   ]
  },
  {
   "cell_type": "code",
   "execution_count": 75,
   "metadata": {},
   "outputs": [],
   "source": [
    "#pd.Series(name).value_counts()"
   ]
  },
  {
   "cell_type": "markdown",
   "metadata": {},
   "source": [
    "### Ratings"
   ]
  },
  {
   "cell_type": "code",
   "execution_count": 20,
   "metadata": {},
   "outputs": [],
   "source": [
    "rating = []\n",
    "container_class = 'container__09f24__mpR8_ hoverable__09f24__wQ_on margin-t3__09f24__riq4X margin-b3__09f24__l9v5d padding-t3__09f24__TMrIW padding-r3__09f24__eaF7p padding-b3__09f24__S8R2d padding-l3__09f24__IOjKY border--top__09f24__exYYb border--right__09f24__X7Tln border--bottom__09f24___mg5X border--left__09f24__DMOkM border-color--default__09f24__NPAKY'\n",
    "for row in hotel_soup:\n",
    "    result = row.find_all(class_ = container_class)\n",
    "\n",
    "    for tag in result:\n",
    "        header_text = tag.div.div.div.nextSibling.div\n",
    "        rat = header_text.select_one('.overflow--hidden__09f24___ayzG')\n",
    "        if rat is not None:\n",
    "            rating.append(rat['aria-label'].split()[0])\n",
    "        else:\n",
    "            rating.append(np.nan)"
   ]
  },
  {
   "cell_type": "code",
   "execution_count": 74,
   "metadata": {},
   "outputs": [],
   "source": [
    "# test\n",
    "# for n, rat in zip(name, rating):\n",
    "#     print(n, rat) "
   ]
  },
  {
   "cell_type": "markdown",
   "metadata": {},
   "source": [
    "### Reviews"
   ]
  },
  {
   "cell_type": "code",
   "execution_count": 21,
   "metadata": {},
   "outputs": [],
   "source": [
    "reviews = []\n",
    "container_class = 'container__09f24__mpR8_ hoverable__09f24__wQ_on margin-t3__09f24__riq4X margin-b3__09f24__l9v5d padding-t3__09f24__TMrIW padding-r3__09f24__eaF7p padding-b3__09f24__S8R2d padding-l3__09f24__IOjKY border--top__09f24__exYYb border--right__09f24__X7Tln border--bottom__09f24___mg5X border--left__09f24__DMOkM border-color--default__09f24__NPAKY'\n",
    "for row in hotel_soup:\n",
    "    result = row.find_all(class_ = container_class)\n",
    "\n",
    "    for tag in result:\n",
    "        header_text = tag.div.div.div.nextSibling.div\n",
    "        rev = header_text.select_one('.reviewCount__09f24__tnBk4')\n",
    "        if rev is not None:\n",
    "            reviews.append(rev.text)\n",
    "        else:\n",
    "            reviews.append(np.nan)"
   ]
  },
  {
   "cell_type": "code",
   "execution_count": 73,
   "metadata": {},
   "outputs": [],
   "source": [
    "# test\n",
    "# for n, rev in zip(name, reviews):\n",
    "#     print(n, rev) "
   ]
  },
  {
   "cell_type": "markdown",
   "metadata": {},
   "source": [
    "### Price"
   ]
  },
  {
   "cell_type": "code",
   "execution_count": 22,
   "metadata": {},
   "outputs": [],
   "source": [
    "price_range = []\n",
    "container_class = 'container__09f24__mpR8_ hoverable__09f24__wQ_on margin-t3__09f24__riq4X margin-b3__09f24__l9v5d padding-t3__09f24__TMrIW padding-r3__09f24__eaF7p padding-b3__09f24__S8R2d padding-l3__09f24__IOjKY border--top__09f24__exYYb border--right__09f24__X7Tln border--bottom__09f24___mg5X border--left__09f24__DMOkM border-color--default__09f24__NPAKY'\n",
    "for row in hotel_soup:\n",
    "    result = row.find_all(class_ = container_class)\n",
    "\n",
    "    for tag in result:\n",
    "        header_text = tag.div.div.div.nextSibling.div\n",
    "        price = header_text.select_one('.css-1s7bx9e')\n",
    "        if price is not None:\n",
    "            price_range.append(price.text)\n",
    "        else:\n",
    "            price_range.append(np.nan)"
   ]
  },
  {
   "cell_type": "code",
   "execution_count": 72,
   "metadata": {},
   "outputs": [],
   "source": [
    "# test\n",
    "# for n, price in zip(name, price_range):\n",
    "#     print(n, price)"
   ]
  },
  {
   "cell_type": "markdown",
   "metadata": {},
   "source": [
    "### Neighbours"
   ]
  },
  {
   "cell_type": "code",
   "execution_count": 48,
   "metadata": {},
   "outputs": [],
   "source": [
    "neig = []\n",
    "container_class = 'container__09f24__mpR8_ hoverable__09f24__wQ_on margin-t3__09f24__riq4X margin-b3__09f24__l9v5d padding-t3__09f24__TMrIW padding-r3__09f24__eaF7p padding-b3__09f24__S8R2d padding-l3__09f24__IOjKY border--top__09f24__exYYb border--right__09f24__X7Tln border--bottom__09f24___mg5X border--left__09f24__DMOkM border-color--default__09f24__NPAKY'\n",
    "for row in resto_soup:\n",
    "    result = row.find_all(class_ = container_class)\n",
    "\n",
    "    for tag in result:\n",
    "        header_text = tag.div.div.div.nextSibling.div\n",
    "        neigh = header_text.select_one('.css-dzq7l1 .css-chan6m')\n",
    "        if neigh is not None:\n",
    "            neig.append(neigh.text)\n",
    "        else:\n",
    "            neig.append(np.nan)"
   ]
  },
  {
   "cell_type": "code",
   "execution_count": 51,
   "metadata": {},
   "outputs": [],
   "source": [
    "# neig"
   ]
  },
  {
   "cell_type": "markdown",
   "metadata": {},
   "source": [
    "### Type"
   ]
  },
  {
   "cell_type": "code",
   "execution_count": null,
   "metadata": {},
   "outputs": [],
   "source": []
  },
  {
   "cell_type": "markdown",
   "metadata": {},
   "source": [
    "# Dataframe"
   ]
  },
  {
   "cell_type": "code",
   "execution_count": 49,
   "metadata": {},
   "outputs": [],
   "source": [
    "hotel_df = pd.DataFrame({'Name':name, 'Rating':rating, 'Reviews': reviews, 'Price Range in £': price_range, 'Neighbourhoods': neig})"
   ]
  },
  {
   "cell_type": "code",
   "execution_count": 50,
   "metadata": {},
   "outputs": [],
   "source": [
    "# store data\n",
    "hotel_df.to_csv('hotels_data.csv', index=False)"
   ]
  },
  {
   "cell_type": "code",
   "execution_count": 81,
   "metadata": {},
   "outputs": [],
   "source": [
    "#hotel_df.head()"
   ]
  },
  {
   "cell_type": "code",
   "execution_count": 113,
   "metadata": {},
   "outputs": [],
   "source": [
    "#hotel_df.info()"
   ]
  },
  {
   "cell_type": "markdown",
   "metadata": {},
   "source": [
    "### Changing price value"
   ]
  },
  {
   "cell_type": "code",
   "execution_count": 25,
   "metadata": {},
   "outputs": [],
   "source": [
    "# 1 pound = 1.31 USD\n",
    "Euro = (pd.Series([10, 11, 30, 31, 60, 61]) * 1.31).apply(lambda x: int(x))\n",
    "#print(Euro)\n",
    "mapper = {'£':'under 13', '££':'[14 - 39]', '£££':'[40 - 78]', '££££':'over 79'}\n",
    "hotel_df['Price Range in £'] = hotel_df['Price Range in £'].map(mapper)"
   ]
  },
  {
   "cell_type": "code",
   "execution_count": 86,
   "metadata": {},
   "outputs": [],
   "source": [
    "# Top 20 Most reviews\n",
    "\n",
    "#hotel_df.sort_values(by='Reviews', ascending=False).head(20)"
   ]
  },
  {
   "cell_type": "markdown",
   "metadata": {},
   "source": [
    "# Pubs"
   ]
  },
  {
   "cell_type": "code",
   "execution_count": 34,
   "metadata": {},
   "outputs": [
    {
     "name": "stdout",
     "output_type": "stream",
     "text": [
      "<Response [200]>\n",
      "Request:1; Frequency: 0.08907339946500796 requests/s\n",
      "<Response [200]>\n",
      "Request:2; Frequency: 0.07593062561911493 requests/s\n",
      "<Response [200]>\n",
      "Request:3; Frequency: 0.07044308591041991 requests/s\n",
      "<Response [200]>\n",
      "Request:4; Frequency: 0.07323655290613018 requests/s\n",
      "<Response [200]>\n",
      "Request:5; Frequency: 0.07098803240368465 requests/s\n",
      "<Response [200]>\n",
      "Request:6; Frequency: 0.07173331084461493 requests/s\n",
      "<Response [200]>\n",
      "Request:7; Frequency: 0.07466147304465691 requests/s\n",
      "<Response [200]>\n",
      "Request:8; Frequency: 0.07425982115484663 requests/s\n",
      "<Response [200]>\n",
      "Request:9; Frequency: 0.07574759601587132 requests/s\n",
      "<Response [200]>\n",
      "Request:10; Frequency: 0.0763184357940579 requests/s\n",
      "<Response [200]>\n",
      "Request:11; Frequency: 0.07681826343301434 requests/s\n",
      "<Response [200]>\n",
      "Request:12; Frequency: 0.07579676602851569 requests/s\n",
      "<Response [200]>\n",
      "Request:13; Frequency: 0.07440941026723989 requests/s\n",
      "<Response [200]>\n",
      "Request:14; Frequency: 0.07337044713073766 requests/s\n",
      "<Response [200]>\n",
      "Request:15; Frequency: 0.07372981585592184 requests/s\n",
      "<Response [200]>\n",
      "Request:16; Frequency: 0.07353748626735972 requests/s\n",
      "<Response [200]>\n",
      "Request:17; Frequency: 0.07311229286429959 requests/s\n",
      "<Response [200]>\n",
      "Request:18; Frequency: 0.07294639998283238 requests/s\n",
      "<Response [200]>\n",
      "Request:19; Frequency: 0.07341440613802319 requests/s\n",
      "<Response [200]>\n",
      "Request:20; Frequency: 0.07324169613741513 requests/s\n",
      "<Response [200]>\n",
      "Request:21; Frequency: 0.07288122969712113 requests/s\n",
      "<Response [200]>\n",
      "Request:22; Frequency: 0.07200697868635621 requests/s\n",
      "<Response [200]>\n",
      "Request:23; Frequency: 0.07164592543726991 requests/s\n",
      "<Response [200]>\n",
      "Request:24; Frequency: 0.07240518408516709 requests/s\n"
     ]
    }
   ],
   "source": [
    "#  1 webscraping Hotels\n",
    "# Monitoring of the loop\n",
    "start_time = time()\n",
    "request = 0\n",
    "\n",
    "# Dictionary for storing web content\n",
    "soup_r = {}\n",
    "for start_num in range(0, 240, 10):\n",
    "\n",
    "    # Make a request\n",
    "    url = f\"https://www.yelp.com/search?find_desc=Pubs&find_loc=london&start={start_num}\"\n",
    "    response = requests.get(url)\n",
    "\n",
    "    # Pause the loop\n",
    "    sleep(randint(8,15))\n",
    "    print(response)\n",
    "    page = BeautifulSoup(response.content, 'html.parser')\n",
    "    soup_r[start_num] = page\n",
    "\n",
    "\n",
    "    # Monitor the requests\n",
    "    request += 1\n",
    "    elapsed_time = time() - start_time\n",
    "    print('Request:{}; Frequency: {} requests/s'.format(request, request/elapsed_time))\n",
    "    #clear_output(wait = True)\n",
    "\n",
    "    # Throw a warning if request wasn't successful\n",
    "    if response.status_code != 200:\n",
    "        warn('Request: {}; Status code: {}'.format(request, response.status_code))"
   ]
  },
  {
   "cell_type": "code",
   "execution_count": 35,
   "metadata": {},
   "outputs": [],
   "source": [
    "pub_soup = pd.DataFrame([soup_r]).squeeze()"
   ]
  },
  {
   "cell_type": "markdown",
   "metadata": {},
   "source": [
    "### Name"
   ]
  },
  {
   "cell_type": "code",
   "execution_count": 36,
   "metadata": {},
   "outputs": [],
   "source": [
    "name = []\n",
    "for row in pub_soup:  \n",
    "    result = row.select('.css-1egxyvc .css-1m051bw') \n",
    "    for tag in result:\n",
    "        #print(tag.text)\n",
    "        name.append(tag.text)"
   ]
  },
  {
   "cell_type": "code",
   "execution_count": 112,
   "metadata": {},
   "outputs": [],
   "source": [
    "#pd.Series(name).value_counts()"
   ]
  },
  {
   "cell_type": "markdown",
   "metadata": {},
   "source": [
    "### Ratings"
   ]
  },
  {
   "cell_type": "code",
   "execution_count": 37,
   "metadata": {},
   "outputs": [],
   "source": [
    "rating = []\n",
    "container_class = 'container__09f24__mpR8_ hoverable__09f24__wQ_on margin-t3__09f24__riq4X margin-b3__09f24__l9v5d padding-t3__09f24__TMrIW padding-r3__09f24__eaF7p padding-b3__09f24__S8R2d padding-l3__09f24__IOjKY border--top__09f24__exYYb border--right__09f24__X7Tln border--bottom__09f24___mg5X border--left__09f24__DMOkM border-color--default__09f24__NPAKY'\n",
    "for row in pub_soup:\n",
    "    result = row.find_all(class_ = container_class)\n",
    "\n",
    "    for tag in result:\n",
    "        header_text = tag.div.div.div.nextSibling.div\n",
    "        rat = header_text.select_one('.overflow--hidden__09f24___ayzG')\n",
    "        if rat is not None:\n",
    "            rating.append(rat['aria-label'].split()[0])\n",
    "        else:\n",
    "            rating.append(np.nan)"
   ]
  },
  {
   "cell_type": "code",
   "execution_count": 96,
   "metadata": {},
   "outputs": [],
   "source": [
    "# test\n",
    "# for n, rat in zip(name, rating):\n",
    "#     print(n, rat) "
   ]
  },
  {
   "cell_type": "markdown",
   "metadata": {},
   "source": [
    "### Reviews"
   ]
  },
  {
   "cell_type": "code",
   "execution_count": 38,
   "metadata": {},
   "outputs": [],
   "source": [
    "reviews = []\n",
    "container_class = 'container__09f24__mpR8_ hoverable__09f24__wQ_on margin-t3__09f24__riq4X margin-b3__09f24__l9v5d padding-t3__09f24__TMrIW padding-r3__09f24__eaF7p padding-b3__09f24__S8R2d padding-l3__09f24__IOjKY border--top__09f24__exYYb border--right__09f24__X7Tln border--bottom__09f24___mg5X border--left__09f24__DMOkM border-color--default__09f24__NPAKY'\n",
    "for row in pub_soup:\n",
    "    result = row.find_all(class_ = container_class)\n",
    "\n",
    "    for tag in result:\n",
    "        header_text = tag.div.div.div.nextSibling.div\n",
    "        rev = header_text.select_one('.reviewCount__09f24__tnBk4')\n",
    "        if rev is not None:\n",
    "            reviews.append(rev.text)\n",
    "        else:\n",
    "            reviews.append(np.nan)"
   ]
  },
  {
   "cell_type": "code",
   "execution_count": 99,
   "metadata": {},
   "outputs": [],
   "source": [
    "# test\n",
    "# for n, rev in zip(name, reviews):\n",
    "#     print(n, rev) "
   ]
  },
  {
   "cell_type": "markdown",
   "metadata": {},
   "source": [
    "### Price"
   ]
  },
  {
   "cell_type": "code",
   "execution_count": 39,
   "metadata": {},
   "outputs": [],
   "source": [
    "price_range = []\n",
    "container_class = 'container__09f24__mpR8_ hoverable__09f24__wQ_on margin-t3__09f24__riq4X margin-b3__09f24__l9v5d padding-t3__09f24__TMrIW padding-r3__09f24__eaF7p padding-b3__09f24__S8R2d padding-l3__09f24__IOjKY border--top__09f24__exYYb border--right__09f24__X7Tln border--bottom__09f24___mg5X border--left__09f24__DMOkM border-color--default__09f24__NPAKY'\n",
    "for row in pub_soup:\n",
    "    result = row.find_all(class_ = container_class)\n",
    "\n",
    "    for tag in result:\n",
    "        header_text = tag.div.div.div.nextSibling.div\n",
    "        price = header_text.select_one('.css-1s7bx9e')\n",
    "        if price is not None:\n",
    "            price_range.append(price.text)\n",
    "        else:\n",
    "            price_range.append(np.nan)"
   ]
  },
  {
   "cell_type": "code",
   "execution_count": 102,
   "metadata": {},
   "outputs": [],
   "source": [
    "# test\n",
    "# for n, price in zip(name, price_range):\n",
    "#     print(n, price)"
   ]
  },
  {
   "cell_type": "markdown",
   "metadata": {},
   "source": [
    "### Neighbours"
   ]
  },
  {
   "cell_type": "code",
   "execution_count": 40,
   "metadata": {},
   "outputs": [],
   "source": [
    "neig = []\n",
    "container_class = 'container__09f24__mpR8_ hoverable__09f24__wQ_on margin-t3__09f24__riq4X margin-b3__09f24__l9v5d padding-t3__09f24__TMrIW padding-r3__09f24__eaF7p padding-b3__09f24__S8R2d padding-l3__09f24__IOjKY border--top__09f24__exYYb border--right__09f24__X7Tln border--bottom__09f24___mg5X border--left__09f24__DMOkM border-color--default__09f24__NPAKY'\n",
    "for row in resto_soup:\n",
    "    result = row.find_all(class_ = container_class)\n",
    "\n",
    "    for tag in result:\n",
    "        header_text = tag.div.div.div.nextSibling.div\n",
    "        neigh = header_text.select_one('.css-dzq7l1 .css-chan6m')\n",
    "        if neigh is not None:\n",
    "            neig.append(neigh.text)\n",
    "        else:\n",
    "            neig.append(np.nan)"
   ]
  },
  {
   "cell_type": "code",
   "execution_count": 42,
   "metadata": {},
   "outputs": [],
   "source": [
    "# neig"
   ]
  },
  {
   "cell_type": "markdown",
   "metadata": {},
   "source": [
    "### Type"
   ]
  },
  {
   "cell_type": "markdown",
   "metadata": {},
   "source": [
    "# Dataframe"
   ]
  },
  {
   "cell_type": "code",
   "execution_count": 43,
   "metadata": {},
   "outputs": [],
   "source": [
    "pub_df = pd.DataFrame({'Name':name, 'Rating':rating, 'Reviews': reviews, 'Price Range in £': price_range, 'Neighbourhoods': neig})"
   ]
  },
  {
   "cell_type": "code",
   "execution_count": 44,
   "metadata": {},
   "outputs": [],
   "source": [
    "# store data\n",
    "pub_df.to_csv('pubs_data.csv', index=False)"
   ]
  },
  {
   "cell_type": "code",
   "execution_count": 107,
   "metadata": {},
   "outputs": [],
   "source": [
    "#pub_df.head()"
   ]
  },
  {
   "cell_type": "code",
   "execution_count": 108,
   "metadata": {},
   "outputs": [],
   "source": [
    "#pub_df.info()"
   ]
  },
  {
   "cell_type": "markdown",
   "metadata": {},
   "source": [
    "### Changing price value"
   ]
  },
  {
   "cell_type": "code",
   "execution_count": 45,
   "metadata": {},
   "outputs": [],
   "source": [
    "# 1 pound = 1.31 USD\n",
    "Euro = (pd.Series([10, 11, 30, 31, 60, 61]) * 1.31).apply(lambda x: int(x))\n",
    "#print(Euro)\n",
    "mapper = {'£':'under 13', '££':'[14 - 39]', '£££':'[40 - 78]', '££££':'over 79'}\n",
    "pub_df['Price Range in £'] = pub_df['Price Range in £'].map(mapper)"
   ]
  },
  {
   "cell_type": "code",
   "execution_count": 111,
   "metadata": {},
   "outputs": [],
   "source": [
    "# Top 20 Most reviews\n",
    "\n",
    "#pub_df.sort_values(by='Reviews', ascending=False).head(20)"
   ]
  }
 ],
 "metadata": {
  "interpreter": {
   "hash": "73592dad14db8f3994cd458d5e0995dad9821ca28205c2106249abcaba41cb67"
  },
  "kernelspec": {
   "display_name": "Python 3.8.12 ('strive')",
   "language": "python",
   "name": "python3"
  },
  "language_info": {
   "codemirror_mode": {
    "name": "ipython",
    "version": 3
   },
   "file_extension": ".py",
   "mimetype": "text/x-python",
   "name": "python",
   "nbconvert_exporter": "python",
   "pygments_lexer": "ipython3",
   "version": "3.8.12"
  },
  "orig_nbformat": 4
 },
 "nbformat": 4,
 "nbformat_minor": 2
}
