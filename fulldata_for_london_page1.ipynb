{
 "cells": [
  {
   "cell_type": "code",
   "execution_count": 11,
   "metadata": {},
   "outputs": [],
   "source": [
    "import requests\n",
    "from bs4  import BeautifulSoup\n",
    "import pandas as pd\n",
    "import numpy as np\n",
    "\n",
    "from time import sleep\n",
    "from random import randint\n",
    "from warnings import warn\n",
    "from time import time"
   ]
  },
  {
   "cell_type": "markdown",
   "metadata": {},
   "source": [
    "## Restaurant"
   ]
  },
  {
   "cell_type": "code",
   "execution_count": 12,
   "metadata": {},
   "outputs": [
    {
     "name": "stdout",
     "output_type": "stream",
     "text": [
      "<Response [200]>\n",
      "Request:1; Frequency: 0.09596472414875633 requests/s\n",
      "<Response [200]>\n",
      "Request:2; Frequency: 0.08296823969990778 requests/s\n",
      "<Response [200]>\n",
      "Request:3; Frequency: 0.07117124583277931 requests/s\n",
      "<Response [200]>\n",
      "Request:4; Frequency: 0.07079988726686308 requests/s\n",
      "<Response [200]>\n",
      "Request:5; Frequency: 0.06934838338363461 requests/s\n",
      "<Response [200]>\n",
      "Request:6; Frequency: 0.07144294816420729 requests/s\n",
      "<Response [200]>\n",
      "Request:7; Frequency: 0.06928892643648463 requests/s\n",
      "<Response [200]>\n",
      "Request:8; Frequency: 0.07176036082956322 requests/s\n",
      "<Response [200]>\n",
      "Request:9; Frequency: 0.0704357032984562 requests/s\n",
      "<Response [200]>\n",
      "Request:10; Frequency: 0.07031326682153576 requests/s\n",
      "<Response [200]>\n",
      "Request:11; Frequency: 0.07057766788498372 requests/s\n",
      "<Response [200]>\n",
      "Request:12; Frequency: 0.07046893431707134 requests/s\n",
      "<Response [200]>\n",
      "Request:13; Frequency: 0.07035984746328822 requests/s\n",
      "<Response [200]>\n",
      "Request:14; Frequency: 0.07018556494806649 requests/s\n",
      "<Response [200]>\n",
      "Request:15; Frequency: 0.07058285032918646 requests/s\n",
      "<Response [200]>\n",
      "Request:16; Frequency: 0.06998325078805957 requests/s\n",
      "<Response [200]>\n",
      "Request:17; Frequency: 0.06962084196828161 requests/s\n",
      "<Response [200]>\n",
      "Request:18; Frequency: 0.07037238307756226 requests/s\n",
      "<Response [200]>\n",
      "Request:19; Frequency: 0.07141030730824657 requests/s\n",
      "<Response [200]>\n",
      "Request:20; Frequency: 0.07173711548532073 requests/s\n",
      "<Response [200]>\n",
      "Request:21; Frequency: 0.07204600537491121 requests/s\n",
      "<Response [200]>\n",
      "Request:22; Frequency: 0.07163421719589673 requests/s\n",
      "<Response [200]>\n",
      "Request:23; Frequency: 0.07196630744431179 requests/s\n",
      "<Response [200]>\n",
      "Request:24; Frequency: 0.07132816677194147 requests/s\n"
     ]
    }
   ],
   "source": [
    "#  1 webscraping Hotels\n",
    "# Monitoring of the loop\n",
    "start_time = time()\n",
    "request = 0\n",
    "\n",
    "# Dictionary for storing web content\n",
    "soup_r = {}\n",
    "for start_num in range(0, 240, 10):\n",
    "\n",
    "    # Make a request\n",
    "    url = f\" https://www.yelp.com/search?find_desc=Restaurants&find_loc=london&start={start_num}\"\n",
    "    response = requests.get(url)\n",
    "\n",
    "    # Pause the loop\n",
    "    sleep(randint(8,15))\n",
    "    print(response)\n",
    "    page = BeautifulSoup(response.content, 'html.parser')\n",
    "    soup_r[start_num] = page\n",
    "\n",
    "\n",
    "    # Monitor the requests\n",
    "    request += 1\n",
    "    elapsed_time = time() - start_time\n",
    "    print('Request:{}; Frequency: {} requests/s'.format(request, request/elapsed_time))\n",
    "    #clear_output(wait = True)\n",
    "\n",
    "    # Throw a warning if request wasn't successful\n",
    "    if response.status_code != 200:\n",
    "        warn('Request: {}; Status code: {}'.format(request, response.status_code))"
   ]
  },
  {
   "cell_type": "code",
   "execution_count": 14,
   "metadata": {},
   "outputs": [],
   "source": [
    "resto_soup = pd.DataFrame([soup_r]).squeeze()"
   ]
  },
  {
   "cell_type": "markdown",
   "metadata": {},
   "source": [
    "### Name"
   ]
  },
  {
   "cell_type": "code",
   "execution_count": 15,
   "metadata": {},
   "outputs": [],
   "source": [
    "name = []\n",
    "for row in resto_soup:  \n",
    "    result = row.select('.css-1egxyvc .css-1m051bw') \n",
    "    for tag in result:\n",
    "        #print(tag.text)\n",
    "        name.append(tag.text)"
   ]
  },
  {
   "cell_type": "code",
   "execution_count": 16,
   "metadata": {},
   "outputs": [],
   "source": [
    "# pd.Series(name).value_counts()"
   ]
  },
  {
   "cell_type": "markdown",
   "metadata": {},
   "source": [
    "### Ratings"
   ]
  },
  {
   "cell_type": "code",
   "execution_count": 17,
   "metadata": {},
   "outputs": [],
   "source": [
    "rating = []\n",
    "container_class = 'container__09f24__mpR8_ hoverable__09f24__wQ_on margin-t3__09f24__riq4X margin-b3__09f24__l9v5d padding-t3__09f24__TMrIW padding-r3__09f24__eaF7p padding-b3__09f24__S8R2d padding-l3__09f24__IOjKY border--top__09f24__exYYb border--right__09f24__X7Tln border--bottom__09f24___mg5X border--left__09f24__DMOkM border-color--default__09f24__NPAKY'\n",
    "for row in resto_soup:\n",
    "    result = row.find_all(class_ = container_class)\n",
    "\n",
    "    for tag in result:\n",
    "        header_text = tag.div.div.div.nextSibling.div\n",
    "        rat = header_text.select_one('.overflow--hidden__09f24___ayzG')\n",
    "        if rat is not None:\n",
    "            rating.append(rat['aria-label'].split()[0])\n",
    "        else:\n",
    "            rating.append(np.nan)"
   ]
  },
  {
   "cell_type": "code",
   "execution_count": 18,
   "metadata": {},
   "outputs": [],
   "source": [
    "# test\n",
    "# for n, rat in zip(name, rating):\n",
    "#     print(n, rat) "
   ]
  },
  {
   "cell_type": "markdown",
   "metadata": {},
   "source": [
    "### Reviews"
   ]
  },
  {
   "cell_type": "code",
   "execution_count": 19,
   "metadata": {},
   "outputs": [],
   "source": [
    "reviews = []\n",
    "container_class = 'container__09f24__mpR8_ hoverable__09f24__wQ_on margin-t3__09f24__riq4X margin-b3__09f24__l9v5d padding-t3__09f24__TMrIW padding-r3__09f24__eaF7p padding-b3__09f24__S8R2d padding-l3__09f24__IOjKY border--top__09f24__exYYb border--right__09f24__X7Tln border--bottom__09f24___mg5X border--left__09f24__DMOkM border-color--default__09f24__NPAKY'\n",
    "for row in resto_soup:\n",
    "    result = row.find_all(class_ = container_class)\n",
    "\n",
    "    for tag in result:\n",
    "        header_text = tag.div.div.div.nextSibling.div\n",
    "        rev = header_text.select_one('.reviewCount__09f24__tnBk4')\n",
    "        if rev is not None:\n",
    "            reviews.append(rev.text)\n",
    "        else:\n",
    "            reviews.append(np.nan)"
   ]
  },
  {
   "cell_type": "code",
   "execution_count": 20,
   "metadata": {},
   "outputs": [],
   "source": [
    "# test\n",
    "# for n, rev in zip(name, reviews):\n",
    "#     print(n, rev) "
   ]
  },
  {
   "cell_type": "markdown",
   "metadata": {},
   "source": [
    "### Price"
   ]
  },
  {
   "cell_type": "code",
   "execution_count": 41,
   "metadata": {},
   "outputs": [],
   "source": [
    "price_range = []\n",
    "container_class = 'container__09f24__mpR8_ hoverable__09f24__wQ_on margin-t3__09f24__riq4X margin-b3__09f24__l9v5d padding-t3__09f24__TMrIW padding-r3__09f24__eaF7p padding-b3__09f24__S8R2d padding-l3__09f24__IOjKY border--top__09f24__exYYb border--right__09f24__X7Tln border--bottom__09f24___mg5X border--left__09f24__DMOkM border-color--default__09f24__NPAKY'\n",
    "for row in resto_soup:\n",
    "    result = row.find_all(class_ = container_class)\n",
    "\n",
    "    for tag in result:\n",
    "        header_text = tag.div.div.div.nextSibling.div\n",
    "        price = header_text.select_one('.css-1s7bx9e')\n",
    "        if price is not None:\n",
    "            price_range.append(price.text)\n",
    "        else:\n",
    "            price_range.append(np.nan)"
   ]
  },
  {
   "cell_type": "code",
   "execution_count": 23,
   "metadata": {},
   "outputs": [],
   "source": [
    "# test\n",
    "# for n, price in zip(name, price_range):\n",
    "#     print(n, price)\n"
   ]
  },
  {
   "cell_type": "markdown",
   "metadata": {},
   "source": [
    "# Dataframe"
   ]
  },
  {
   "cell_type": "code",
   "execution_count": 51,
   "metadata": {},
   "outputs": [],
   "source": [
    "restaurant_df = pd.DataFrame({'Name':name, 'Rating':rating, 'Reviews': reviews, 'Price Range in £': price_range})"
   ]
  },
  {
   "cell_type": "code",
   "execution_count": 52,
   "metadata": {},
   "outputs": [],
   "source": [
    "# store data\n",
    "restaurant_df.to_csv('restaurant_data.csv', index=False)"
   ]
  },
  {
   "cell_type": "code",
   "execution_count": 61,
   "metadata": {},
   "outputs": [],
   "source": [
    "#restaurant_df.head()"
   ]
  },
  {
   "cell_type": "code",
   "execution_count": 114,
   "metadata": {},
   "outputs": [],
   "source": [
    "#restaurant_df.info()"
   ]
  },
  {
   "cell_type": "code",
   "execution_count": 34,
   "metadata": {},
   "outputs": [],
   "source": [
    "# Missing values\n",
    "#restaurant_df.isnull().sum().sort_values(ascending=False)"
   ]
  },
  {
   "cell_type": "code",
   "execution_count": 32,
   "metadata": {},
   "outputs": [],
   "source": [
    "# duplicates values\n",
    "#restaurant_df[restaurant_df.duplicated()]"
   ]
  },
  {
   "cell_type": "markdown",
   "metadata": {},
   "source": [
    "### Changing Price value"
   ]
  },
  {
   "cell_type": "code",
   "execution_count": 58,
   "metadata": {},
   "outputs": [],
   "source": [
    "# Price range (price per person)\n",
    "# Based on information from yelp and Quora:\n",
    "# $= under $10. $$=11-30. $$$=31-60. $$$$= over $61\n",
    "# Converting to pound\n",
    "\n",
    "# 1 pound = 1.31 USD\n",
    "Euro = (pd.Series([10, 11, 30, 31, 60, 61]) * 1.31).apply(lambda x: int(x))\n",
    "#print(Euro)\n",
    "mapper = {'£':'under 13', '££':'[14 - 39]', '£££':'[40 - 78]', '££££':'over 79'}\n",
    "restaurant_df['Price Range'] = restaurant_df['Price Range'].map(mapper)"
   ]
  },
  {
   "cell_type": "code",
   "execution_count": 59,
   "metadata": {},
   "outputs": [],
   "source": [
    "# Top 20 Most reviews\n",
    "\n",
    "#restaurant_df.sort_values(by='Reviews', ascending=False).head(20)"
   ]
  },
  {
   "cell_type": "code",
   "execution_count": 60,
   "metadata": {},
   "outputs": [],
   "source": [
    "# Rating and number of reviews\n",
    "restaurant_df['Rating'] = restaurant_df['Rating'].apply(lambda x: float(x)) \n",
    "restaurant_df['Reviews'] = restaurant_df['Reviews'].apply(lambda x: float(x))\n",
    "\n",
    "#restaurant_df.describe()"
   ]
  },
  {
   "cell_type": "markdown",
   "metadata": {},
   "source": [
    "# Hotels"
   ]
  },
  {
   "cell_type": "code",
   "execution_count": 62,
   "metadata": {},
   "outputs": [
    {
     "name": "stdout",
     "output_type": "stream",
     "text": [
      "<Response [200]>\n",
      "Request:1; Frequency: 0.07463168799767089 requests/s\n",
      "<Response [200]>\n",
      "Request:2; Frequency: 0.0810789257055489 requests/s\n",
      "<Response [200]>\n",
      "Request:3; Frequency: 0.07639726925847587 requests/s\n",
      "<Response [200]>\n",
      "Request:4; Frequency: 0.07302651125520489 requests/s\n",
      "<Response [200]>\n",
      "Request:5; Frequency: 0.07431678131883682 requests/s\n",
      "<Response [200]>\n",
      "Request:6; Frequency: 0.07423896176165527 requests/s\n",
      "<Response [200]>\n",
      "Request:7; Frequency: 0.07653986888991388 requests/s\n",
      "<Response [200]>\n",
      "Request:8; Frequency: 0.0731284092638863 requests/s\n",
      "<Response [200]>\n",
      "Request:9; Frequency: 0.07274786867575989 requests/s\n",
      "<Response [200]>\n",
      "Request:10; Frequency: 0.07377396962673882 requests/s\n",
      "<Response [200]>\n",
      "Request:11; Frequency: 0.07514750668655451 requests/s\n",
      "<Response [200]>\n",
      "Request:12; Frequency: 0.07646583510638981 requests/s\n",
      "<Response [200]>\n",
      "Request:13; Frequency: 0.07563615662989248 requests/s\n",
      "<Response [200]>\n",
      "Request:14; Frequency: 0.07557877191219448 requests/s\n",
      "<Response [200]>\n",
      "Request:15; Frequency: 0.0757331003344842 requests/s\n",
      "<Response [200]>\n",
      "Request:16; Frequency: 0.07471744306743144 requests/s\n",
      "<Response [200]>\n",
      "Request:17; Frequency: 0.07455111698112397 requests/s\n",
      "<Response [200]>\n",
      "Request:18; Frequency: 0.07478163941391165 requests/s\n",
      "<Response [200]>\n",
      "Request:19; Frequency: 0.07354108661954355 requests/s\n",
      "<Response [200]>\n",
      "Request:20; Frequency: 0.07282930118131321 requests/s\n",
      "<Response [200]>\n",
      "Request:21; Frequency: 0.07237840055650399 requests/s\n",
      "<Response [200]>\n",
      "Request:22; Frequency: 0.07048936492092682 requests/s\n",
      "<Response [504]>\n",
      "Request:23; Frequency: 0.06852482148861296 requests/s\n"
     ]
    },
    {
     "name": "stderr",
     "output_type": "stream",
     "text": [
      "C:\\Users\\ritth\\AppData\\Local\\Temp\\ipykernel_50924\\1228871983.py:29: UserWarning: Request: 23; Status code: 504\n",
      "  warn('Request: {}; Status code: {}'.format(request, response.status_code))\n"
     ]
    },
    {
     "name": "stdout",
     "output_type": "stream",
     "text": [
      "<Response [200]>\n",
      "Request:24; Frequency: 0.0680124365147564 requests/s\n"
     ]
    }
   ],
   "source": [
    "#  1 webscraping Hotels\n",
    "# Monitoring of the loop\n",
    "start_time = time()\n",
    "request = 0\n",
    "\n",
    "# Dictionary for storing web content\n",
    "soup_r = {}\n",
    "for start_num in range(0, 240, 10):\n",
    "\n",
    "    # Make a request\n",
    "    url = f\"https://www.yelp.com/search?find_desc=Hotels&find_loc=london&start={start_num}\"\n",
    "    response = requests.get(url)\n",
    "\n",
    "    # Pause the loop\n",
    "    sleep(randint(8,15))\n",
    "    print(response)\n",
    "    page = BeautifulSoup(response.content, 'html.parser')\n",
    "    soup_r[start_num] = page\n",
    "\n",
    "\n",
    "    # Monitor the requests\n",
    "    request += 1\n",
    "    elapsed_time = time() - start_time\n",
    "    print('Request:{}; Frequency: {} requests/s'.format(request, request/elapsed_time))\n",
    "    #clear_output(wait = True)\n",
    "\n",
    "    # Throw a warning if request wasn't successful\n",
    "    if response.status_code != 200:\n",
    "        warn('Request: {}; Status code: {}'.format(request, response.status_code))"
   ]
  },
  {
   "cell_type": "code",
   "execution_count": 63,
   "metadata": {},
   "outputs": [],
   "source": [
    "hotel_soup = pd.DataFrame([soup_r]).squeeze()"
   ]
  },
  {
   "cell_type": "markdown",
   "metadata": {},
   "source": [
    "### Name"
   ]
  },
  {
   "cell_type": "code",
   "execution_count": 76,
   "metadata": {},
   "outputs": [],
   "source": [
    "name = []\n",
    "for row in hotel_soup:  \n",
    "    result = row.select('.css-1egxyvc .css-1m051bw') \n",
    "    for tag in result:\n",
    "        #print(tag.text)\n",
    "        name.append(tag.text)"
   ]
  },
  {
   "cell_type": "code",
   "execution_count": 75,
   "metadata": {},
   "outputs": [],
   "source": [
    "#pd.Series(name).value_counts()"
   ]
  },
  {
   "cell_type": "markdown",
   "metadata": {},
   "source": [
    "### Ratings"
   ]
  },
  {
   "cell_type": "code",
   "execution_count": 66,
   "metadata": {},
   "outputs": [],
   "source": [
    "rating = []\n",
    "container_class = 'container__09f24__mpR8_ hoverable__09f24__wQ_on margin-t3__09f24__riq4X margin-b3__09f24__l9v5d padding-t3__09f24__TMrIW padding-r3__09f24__eaF7p padding-b3__09f24__S8R2d padding-l3__09f24__IOjKY border--top__09f24__exYYb border--right__09f24__X7Tln border--bottom__09f24___mg5X border--left__09f24__DMOkM border-color--default__09f24__NPAKY'\n",
    "for row in hotel_soup:\n",
    "    result = row.find_all(class_ = container_class)\n",
    "\n",
    "    for tag in result:\n",
    "        header_text = tag.div.div.div.nextSibling.div\n",
    "        rat = header_text.select_one('.overflow--hidden__09f24___ayzG')\n",
    "        if rat is not None:\n",
    "            rating.append(rat['aria-label'].split()[0])\n",
    "        else:\n",
    "            rating.append(np.nan)"
   ]
  },
  {
   "cell_type": "code",
   "execution_count": 74,
   "metadata": {},
   "outputs": [],
   "source": [
    "# test\n",
    "# for n, rat in zip(name, rating):\n",
    "#     print(n, rat) "
   ]
  },
  {
   "cell_type": "markdown",
   "metadata": {},
   "source": [
    "### Reviews"
   ]
  },
  {
   "cell_type": "code",
   "execution_count": 68,
   "metadata": {},
   "outputs": [],
   "source": [
    "reviews = []\n",
    "container_class = 'container__09f24__mpR8_ hoverable__09f24__wQ_on margin-t3__09f24__riq4X margin-b3__09f24__l9v5d padding-t3__09f24__TMrIW padding-r3__09f24__eaF7p padding-b3__09f24__S8R2d padding-l3__09f24__IOjKY border--top__09f24__exYYb border--right__09f24__X7Tln border--bottom__09f24___mg5X border--left__09f24__DMOkM border-color--default__09f24__NPAKY'\n",
    "for row in hotel_soup:\n",
    "    result = row.find_all(class_ = container_class)\n",
    "\n",
    "    for tag in result:\n",
    "        header_text = tag.div.div.div.nextSibling.div\n",
    "        rev = header_text.select_one('.reviewCount__09f24__tnBk4')\n",
    "        if rev is not None:\n",
    "            reviews.append(rev.text)\n",
    "        else:\n",
    "            reviews.append(np.nan)"
   ]
  },
  {
   "cell_type": "code",
   "execution_count": 73,
   "metadata": {},
   "outputs": [],
   "source": [
    "# test\n",
    "# for n, rev in zip(name, reviews):\n",
    "#     print(n, rev) "
   ]
  },
  {
   "cell_type": "markdown",
   "metadata": {},
   "source": [
    "### Price"
   ]
  },
  {
   "cell_type": "code",
   "execution_count": 70,
   "metadata": {},
   "outputs": [],
   "source": [
    "price_range = []\n",
    "container_class = 'container__09f24__mpR8_ hoverable__09f24__wQ_on margin-t3__09f24__riq4X margin-b3__09f24__l9v5d padding-t3__09f24__TMrIW padding-r3__09f24__eaF7p padding-b3__09f24__S8R2d padding-l3__09f24__IOjKY border--top__09f24__exYYb border--right__09f24__X7Tln border--bottom__09f24___mg5X border--left__09f24__DMOkM border-color--default__09f24__NPAKY'\n",
    "for row in hotel_soup:\n",
    "    result = row.find_all(class_ = container_class)\n",
    "\n",
    "    for tag in result:\n",
    "        header_text = tag.div.div.div.nextSibling.div\n",
    "        price = header_text.select_one('.css-1s7bx9e')\n",
    "        if price is not None:\n",
    "            price_range.append(price.text)\n",
    "        else:\n",
    "            price_range.append(np.nan)"
   ]
  },
  {
   "cell_type": "code",
   "execution_count": 72,
   "metadata": {},
   "outputs": [],
   "source": [
    "# test\n",
    "# for n, price in zip(name, price_range):\n",
    "#     print(n, price)"
   ]
  },
  {
   "cell_type": "markdown",
   "metadata": {},
   "source": [
    "# Dataframe"
   ]
  },
  {
   "cell_type": "code",
   "execution_count": 77,
   "metadata": {},
   "outputs": [],
   "source": [
    "hotel_df = pd.DataFrame({'Name':name, 'Rating':rating, 'Reviews': reviews, 'Price Range in £': price_range})"
   ]
  },
  {
   "cell_type": "code",
   "execution_count": 89,
   "metadata": {},
   "outputs": [],
   "source": [
    "# store data\n",
    "hotel_df.to_csv('hotels_data.csv', index=False)"
   ]
  },
  {
   "cell_type": "code",
   "execution_count": 81,
   "metadata": {},
   "outputs": [],
   "source": [
    "#hotel_df.head()"
   ]
  },
  {
   "cell_type": "code",
   "execution_count": 113,
   "metadata": {},
   "outputs": [],
   "source": [
    "#hotel_df.info()"
   ]
  },
  {
   "cell_type": "markdown",
   "metadata": {},
   "source": [
    "### Changing price value"
   ]
  },
  {
   "cell_type": "code",
   "execution_count": 84,
   "metadata": {},
   "outputs": [],
   "source": [
    "# 1 pound = 1.31 USD\n",
    "Euro = (pd.Series([10, 11, 30, 31, 60, 61]) * 1.31).apply(lambda x: int(x))\n",
    "#print(Euro)\n",
    "mapper = {'£':'under 13', '££':'[14 - 39]', '£££':'[40 - 78]', '££££':'over 79'}\n",
    "hotel_df['Price Range'] = hotel_df['Price Range'].map(mapper)"
   ]
  },
  {
   "cell_type": "code",
   "execution_count": 86,
   "metadata": {},
   "outputs": [],
   "source": [
    "# Top 20 Most reviews\n",
    "\n",
    "#hotel_df.sort_values(by='Reviews', ascending=False).head(20)"
   ]
  },
  {
   "cell_type": "markdown",
   "metadata": {},
   "source": [
    "# Pubs"
   ]
  },
  {
   "cell_type": "code",
   "execution_count": 87,
   "metadata": {},
   "outputs": [
    {
     "name": "stdout",
     "output_type": "stream",
     "text": [
      "<Response [200]>\n",
      "Request:1; Frequency: 0.09728534416232013 requests/s\n",
      "<Response [200]>\n",
      "Request:2; Frequency: 0.07222438424306961 requests/s\n",
      "<Response [200]>\n",
      "Request:3; Frequency: 0.06950750651243158 requests/s\n",
      "<Response [200]>\n",
      "Request:4; Frequency: 0.06737870872104207 requests/s\n",
      "<Response [200]>\n",
      "Request:5; Frequency: 0.06511078142667917 requests/s\n",
      "<Response [200]>\n",
      "Request:6; Frequency: 0.0655845405873091 requests/s\n",
      "<Response [200]>\n",
      "Request:7; Frequency: 0.06872124488666487 requests/s\n",
      "<Response [200]>\n",
      "Request:8; Frequency: 0.06889124049484453 requests/s\n",
      "<Response [200]>\n",
      "Request:9; Frequency: 0.07096912542643673 requests/s\n",
      "<Response [200]>\n",
      "Request:10; Frequency: 0.06978563518168855 requests/s\n",
      "<Response [200]>\n",
      "Request:11; Frequency: 0.0699970862149353 requests/s\n",
      "<Response [200]>\n",
      "Request:12; Frequency: 0.06953901800838702 requests/s\n",
      "<Response [200]>\n",
      "Request:13; Frequency: 0.069880794110377 requests/s\n",
      "<Response [200]>\n",
      "Request:14; Frequency: 0.07046597346659499 requests/s\n",
      "<Response [200]>\n",
      "Request:15; Frequency: 0.07060457189184313 requests/s\n",
      "<Response [200]>\n",
      "Request:16; Frequency: 0.07144263154056933 requests/s\n",
      "<Response [200]>\n",
      "Request:17; Frequency: 0.07220802093532062 requests/s\n",
      "<Response [200]>\n",
      "Request:18; Frequency: 0.0727498898091346 requests/s\n",
      "<Response [200]>\n",
      "Request:19; Frequency: 0.0731335857618291 requests/s\n",
      "<Response [200]>\n",
      "Request:20; Frequency: 0.0733326994961316 requests/s\n",
      "<Response [200]>\n",
      "Request:21; Frequency: 0.07371872005961616 requests/s\n",
      "<Response [200]>\n",
      "Request:22; Frequency: 0.074403719180306 requests/s\n",
      "<Response [200]>\n",
      "Request:23; Frequency: 0.07435460140508804 requests/s\n",
      "<Response [200]>\n",
      "Request:24; Frequency: 0.07329665071370382 requests/s\n"
     ]
    }
   ],
   "source": [
    "#  1 webscraping Hotels\n",
    "# Monitoring of the loop\n",
    "start_time = time()\n",
    "request = 0\n",
    "\n",
    "# Dictionary for storing web content\n",
    "soup_r = {}\n",
    "for start_num in range(0, 240, 10):\n",
    "\n",
    "    # Make a request\n",
    "    url = f\"https://www.yelp.com/search?find_desc=Pubs&find_loc=london&start={start_num}\"\n",
    "    response = requests.get(url)\n",
    "\n",
    "    # Pause the loop\n",
    "    sleep(randint(8,15))\n",
    "    print(response)\n",
    "    page = BeautifulSoup(response.content, 'html.parser')\n",
    "    soup_r[start_num] = page\n",
    "\n",
    "\n",
    "    # Monitor the requests\n",
    "    request += 1\n",
    "    elapsed_time = time() - start_time\n",
    "    print('Request:{}; Frequency: {} requests/s'.format(request, request/elapsed_time))\n",
    "    #clear_output(wait = True)\n",
    "\n",
    "    # Throw a warning if request wasn't successful\n",
    "    if response.status_code != 200:\n",
    "        warn('Request: {}; Status code: {}'.format(request, response.status_code))"
   ]
  },
  {
   "cell_type": "code",
   "execution_count": 90,
   "metadata": {},
   "outputs": [],
   "source": [
    "pub_soup = pd.DataFrame([soup_r]).squeeze()"
   ]
  },
  {
   "cell_type": "markdown",
   "metadata": {},
   "source": [
    "### Name"
   ]
  },
  {
   "cell_type": "code",
   "execution_count": 92,
   "metadata": {},
   "outputs": [],
   "source": [
    "name = []\n",
    "for row in pub_soup:  \n",
    "    result = row.select('.css-1egxyvc .css-1m051bw') \n",
    "    for tag in result:\n",
    "        #print(tag.text)\n",
    "        name.append(tag.text)"
   ]
  },
  {
   "cell_type": "code",
   "execution_count": 112,
   "metadata": {},
   "outputs": [],
   "source": [
    "#pd.Series(name).value_counts()"
   ]
  },
  {
   "cell_type": "markdown",
   "metadata": {},
   "source": [
    "### Ratings"
   ]
  },
  {
   "cell_type": "code",
   "execution_count": 94,
   "metadata": {},
   "outputs": [],
   "source": [
    "rating = []\n",
    "container_class = 'container__09f24__mpR8_ hoverable__09f24__wQ_on margin-t3__09f24__riq4X margin-b3__09f24__l9v5d padding-t3__09f24__TMrIW padding-r3__09f24__eaF7p padding-b3__09f24__S8R2d padding-l3__09f24__IOjKY border--top__09f24__exYYb border--right__09f24__X7Tln border--bottom__09f24___mg5X border--left__09f24__DMOkM border-color--default__09f24__NPAKY'\n",
    "for row in pub_soup:\n",
    "    result = row.find_all(class_ = container_class)\n",
    "\n",
    "    for tag in result:\n",
    "        header_text = tag.div.div.div.nextSibling.div\n",
    "        rat = header_text.select_one('.overflow--hidden__09f24___ayzG')\n",
    "        if rat is not None:\n",
    "            rating.append(rat['aria-label'].split()[0])\n",
    "        else:\n",
    "            rating.append(np.nan)"
   ]
  },
  {
   "cell_type": "code",
   "execution_count": 96,
   "metadata": {},
   "outputs": [],
   "source": [
    "# test\n",
    "# for n, rat in zip(name, rating):\n",
    "#     print(n, rat) "
   ]
  },
  {
   "cell_type": "markdown",
   "metadata": {},
   "source": [
    "### Reviews"
   ]
  },
  {
   "cell_type": "code",
   "execution_count": 97,
   "metadata": {},
   "outputs": [],
   "source": [
    "reviews = []\n",
    "container_class = 'container__09f24__mpR8_ hoverable__09f24__wQ_on margin-t3__09f24__riq4X margin-b3__09f24__l9v5d padding-t3__09f24__TMrIW padding-r3__09f24__eaF7p padding-b3__09f24__S8R2d padding-l3__09f24__IOjKY border--top__09f24__exYYb border--right__09f24__X7Tln border--bottom__09f24___mg5X border--left__09f24__DMOkM border-color--default__09f24__NPAKY'\n",
    "for row in pub_soup:\n",
    "    result = row.find_all(class_ = container_class)\n",
    "\n",
    "    for tag in result:\n",
    "        header_text = tag.div.div.div.nextSibling.div\n",
    "        rev = header_text.select_one('.reviewCount__09f24__tnBk4')\n",
    "        if rev is not None:\n",
    "            reviews.append(rev.text)\n",
    "        else:\n",
    "            reviews.append(np.nan)"
   ]
  },
  {
   "cell_type": "code",
   "execution_count": 99,
   "metadata": {},
   "outputs": [],
   "source": [
    "# test\n",
    "# for n, rev in zip(name, reviews):\n",
    "#     print(n, rev) "
   ]
  },
  {
   "cell_type": "markdown",
   "metadata": {},
   "source": [
    "### Price"
   ]
  },
  {
   "cell_type": "code",
   "execution_count": 100,
   "metadata": {},
   "outputs": [],
   "source": [
    "price_range = []\n",
    "container_class = 'container__09f24__mpR8_ hoverable__09f24__wQ_on margin-t3__09f24__riq4X margin-b3__09f24__l9v5d padding-t3__09f24__TMrIW padding-r3__09f24__eaF7p padding-b3__09f24__S8R2d padding-l3__09f24__IOjKY border--top__09f24__exYYb border--right__09f24__X7Tln border--bottom__09f24___mg5X border--left__09f24__DMOkM border-color--default__09f24__NPAKY'\n",
    "for row in pub_soup:\n",
    "    result = row.find_all(class_ = container_class)\n",
    "\n",
    "    for tag in result:\n",
    "        header_text = tag.div.div.div.nextSibling.div\n",
    "        price = header_text.select_one('.css-1s7bx9e')\n",
    "        if price is not None:\n",
    "            price_range.append(price.text)\n",
    "        else:\n",
    "            price_range.append(np.nan)"
   ]
  },
  {
   "cell_type": "code",
   "execution_count": 102,
   "metadata": {},
   "outputs": [],
   "source": [
    "# test\n",
    "# for n, price in zip(name, price_range):\n",
    "#     print(n, price)"
   ]
  },
  {
   "cell_type": "markdown",
   "metadata": {},
   "source": [
    "# Dataframe"
   ]
  },
  {
   "cell_type": "code",
   "execution_count": 103,
   "metadata": {},
   "outputs": [],
   "source": [
    "pub_df = pd.DataFrame({'Name':name, 'Rating':rating, 'Reviews': reviews, 'Price Range in £': price_range})"
   ]
  },
  {
   "cell_type": "code",
   "execution_count": 104,
   "metadata": {},
   "outputs": [],
   "source": [
    "# store data\n",
    "pub_df.to_csv('pubs_data.csv', index=False)"
   ]
  },
  {
   "cell_type": "code",
   "execution_count": 107,
   "metadata": {},
   "outputs": [],
   "source": [
    "#pub_df.head()"
   ]
  },
  {
   "cell_type": "code",
   "execution_count": 108,
   "metadata": {},
   "outputs": [],
   "source": [
    "#pub_df.info()"
   ]
  },
  {
   "cell_type": "markdown",
   "metadata": {},
   "source": [
    "### Changing price value"
   ]
  },
  {
   "cell_type": "code",
   "execution_count": 109,
   "metadata": {},
   "outputs": [],
   "source": [
    "# 1 pound = 1.31 USD\n",
    "Euro = (pd.Series([10, 11, 30, 31, 60, 61]) * 1.31).apply(lambda x: int(x))\n",
    "#print(Euro)\n",
    "mapper = {'£':'under 13', '££':'[14 - 39]', '£££':'[40 - 78]', '££££':'over 79'}\n",
    "pub_df['Price Range'] = pub_df['Price Range'].map(mapper)"
   ]
  },
  {
   "cell_type": "code",
   "execution_count": 111,
   "metadata": {},
   "outputs": [],
   "source": [
    "# Top 20 Most reviews\n",
    "\n",
    "#pub_df.sort_values(by='Reviews', ascending=False).head(20)"
   ]
  }
 ],
 "metadata": {
  "interpreter": {
   "hash": "73592dad14db8f3994cd458d5e0995dad9821ca28205c2106249abcaba41cb67"
  },
  "kernelspec": {
   "display_name": "Python 3.8.12 ('strive')",
   "language": "python",
   "name": "python3"
  },
  "language_info": {
   "codemirror_mode": {
    "name": "ipython",
    "version": 3
   },
   "file_extension": ".py",
   "mimetype": "text/x-python",
   "name": "python",
   "nbconvert_exporter": "python",
   "pygments_lexer": "ipython3",
   "version": "3.8.12"
  },
  "orig_nbformat": 4
 },
 "nbformat": 4,
 "nbformat_minor": 2
}
